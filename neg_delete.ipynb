{
 "cells": [
  {
   "cell_type": "code",
   "execution_count": null,
   "metadata": {},
   "outputs": [],
   "source": [
    "# import xlrd\n",
    "# import csv\n",
    "# import pandas as pd\n",
    "# def csv_from_excel():\n",
    "#     wb = xlrd.open_workbook('.xlsx')\n",
    "#     sh = wb.sheet_by_name('Sheet1')\n",
    "#     your_csv_file = open('your_csv_file_new.csv', 'w')\n",
    "#     wr = csv.writer(your_csv_file, quoting=csv.QUOTE_ALL)\n",
    "\n",
    "#     for rownum in range(sh.nrows):\n",
    "#         wr.writerow(sh.row_values(rownum))\n",
    "\n",
    "#     your_csv_file.close()\n",
    "\n",
    "# # runs the csv_from_excel function:\n",
    "# csv_from_excel()"
   ]
  },
  {
   "cell_type": "code",
   "execution_count": 17,
   "metadata": {},
   "outputs": [
    {
     "name": "stdout",
     "output_type": "stream",
     "text": [
      "Authenticate at https://api.twitter.com/oauth/authorize?oauth_token=lCfs-QAAAAABBBhUAAABcLNvNqA and then enter you verification code here > 4c5cQ9oOiSLgoKdXANQAcAB4VHmZjpVT\n",
      "Authenticated as: JaydeepVaghas17\n"
     ]
    }
   ],
   "source": [
    "import tweepy\n",
    "import csv\n",
    "import pandas as pd\n",
    "consumer_key= \"o876NPDQMXStGaTvRcpcKoFzs\"\n",
    "consumer_secret = \"XzQj2FhHN8IpqjEcZKr61GK2gm4C4W3n4vIaHEugrlVQ0Ehyit\"\n",
    "access_token = \"898566612537573377-z4SGJitLOnDhvJZWDjCrzatHB2G9E8U\" \n",
    "access_token_secret = \"toNufkVFyuPv57JCOr8oYGBpBdUD7ItnTRW4naUeAPJJz\"\n",
    "def read_csv(file):\n",
    "    with open(file, encoding = 'utf-8') as csvfile:\n",
    "        reader = csv.reader(your_csv_file, delimiter = ',')\n",
    "        rows = []\n",
    "        for line in reader:\n",
    "            row_data = []\n",
    "            for element in line:\n",
    "                row_data.append(element)\n",
    "            if row_data != []:\n",
    "                rows.append(row_data)\n",
    "    rows.pop(0)\n",
    "    return(rows)\n",
    "    \n",
    "    \n",
    "def oauth_login(consumer_key, consumer_secret):\n",
    "    auth = tweepy.OAuthHandler(consumer_key, consumer_secret)\n",
    "    auth_url = auth.get_authorization_url()\n",
    "    verify_code = input(\"Authenticate at %s and then enter you verification code here > \" % auth_url)\n",
    "    auth.get_access_token(verify_code)\n",
    "    return tweepy.API(auth)\n",
    "\n",
    "\n",
    "api = oauth_login(consumer_key,consumer_secret)\n",
    "print (\"Authenticated as: %s\" % api.me().screen_name)\n",
    "\n"
   ]
  },
  {
   "cell_type": "code",
   "execution_count": 18,
   "metadata": {},
   "outputs": [
    {
     "ename": "TweepError",
     "evalue": "[{'code': 144, 'message': 'No status found with that ID.'}]",
     "output_type": "error",
     "traceback": [
      "\u001b[1;31m---------------------------------------------------------------------------\u001b[0m",
      "\u001b[1;31mTweepError\u001b[0m                                Traceback (most recent call last)",
      "\u001b[1;32m<ipython-input-18-28d9cd8993c2>\u001b[0m in \u001b[0;36m<module>\u001b[1;34m\u001b[0m\n\u001b[0;32m     11\u001b[0m \u001b[1;31m# delete marked tweets by status ID\u001b[0m\u001b[1;33m\u001b[0m\u001b[1;33m\u001b[0m\u001b[1;33m\u001b[0m\u001b[0m\n\u001b[0;32m     12\u001b[0m \u001b[1;32mfor\u001b[0m \u001b[0mstatus_id\u001b[0m \u001b[1;32min\u001b[0m \u001b[0mto_delete_ids\u001b[0m\u001b[1;33m:\u001b[0m\u001b[1;33m\u001b[0m\u001b[1;33m\u001b[0m\u001b[0m\n\u001b[1;32m---> 13\u001b[1;33m         \u001b[0mapi\u001b[0m\u001b[1;33m.\u001b[0m\u001b[0mdestroy_status\u001b[0m\u001b[1;33m(\u001b[0m\u001b[0mstatus_id\u001b[0m\u001b[1;33m)\u001b[0m\u001b[1;33m\u001b[0m\u001b[1;33m\u001b[0m\u001b[0m\n\u001b[0m\u001b[0;32m     14\u001b[0m         \u001b[0mprint\u001b[0m\u001b[1;33m(\u001b[0m\u001b[0mstatus_id\u001b[0m\u001b[1;33m,\u001b[0m \u001b[1;34m'deleted!'\u001b[0m\u001b[1;33m)\u001b[0m\u001b[1;33m\u001b[0m\u001b[1;33m\u001b[0m\u001b[0m\n\u001b[0;32m     15\u001b[0m         \u001b[0mdelete_count\u001b[0m \u001b[1;33m+=\u001b[0m \u001b[1;36m1\u001b[0m\u001b[1;33m\u001b[0m\u001b[1;33m\u001b[0m\u001b[0m\n",
      "\u001b[1;32mc:\\users\\hp\\appdata\\local\\programs\\python\\python36\\lib\\site-packages\\tweepy\\binder.py\u001b[0m in \u001b[0;36m_call\u001b[1;34m(*args, **kwargs)\u001b[0m\n\u001b[0;32m    248\u001b[0m                 \u001b[1;32mreturn\u001b[0m \u001b[0mmethod\u001b[0m\u001b[1;33m\u001b[0m\u001b[1;33m\u001b[0m\u001b[0m\n\u001b[0;32m    249\u001b[0m             \u001b[1;32melse\u001b[0m\u001b[1;33m:\u001b[0m\u001b[1;33m\u001b[0m\u001b[1;33m\u001b[0m\u001b[0m\n\u001b[1;32m--> 250\u001b[1;33m                 \u001b[1;32mreturn\u001b[0m \u001b[0mmethod\u001b[0m\u001b[1;33m.\u001b[0m\u001b[0mexecute\u001b[0m\u001b[1;33m(\u001b[0m\u001b[1;33m)\u001b[0m\u001b[1;33m\u001b[0m\u001b[1;33m\u001b[0m\u001b[0m\n\u001b[0m\u001b[0;32m    251\u001b[0m         \u001b[1;32mfinally\u001b[0m\u001b[1;33m:\u001b[0m\u001b[1;33m\u001b[0m\u001b[1;33m\u001b[0m\u001b[0m\n\u001b[0;32m    252\u001b[0m             \u001b[0mmethod\u001b[0m\u001b[1;33m.\u001b[0m\u001b[0msession\u001b[0m\u001b[1;33m.\u001b[0m\u001b[0mclose\u001b[0m\u001b[1;33m(\u001b[0m\u001b[1;33m)\u001b[0m\u001b[1;33m\u001b[0m\u001b[1;33m\u001b[0m\u001b[0m\n",
      "\u001b[1;32mc:\\users\\hp\\appdata\\local\\programs\\python\\python36\\lib\\site-packages\\tweepy\\binder.py\u001b[0m in \u001b[0;36mexecute\u001b[1;34m(self)\u001b[0m\n\u001b[0;32m    231\u001b[0m                     \u001b[1;32mraise\u001b[0m \u001b[0mRateLimitError\u001b[0m\u001b[1;33m(\u001b[0m\u001b[0merror_msg\u001b[0m\u001b[1;33m,\u001b[0m \u001b[0mresp\u001b[0m\u001b[1;33m)\u001b[0m\u001b[1;33m\u001b[0m\u001b[1;33m\u001b[0m\u001b[0m\n\u001b[0;32m    232\u001b[0m                 \u001b[1;32melse\u001b[0m\u001b[1;33m:\u001b[0m\u001b[1;33m\u001b[0m\u001b[1;33m\u001b[0m\u001b[0m\n\u001b[1;32m--> 233\u001b[1;33m                     \u001b[1;32mraise\u001b[0m \u001b[0mTweepError\u001b[0m\u001b[1;33m(\u001b[0m\u001b[0merror_msg\u001b[0m\u001b[1;33m,\u001b[0m \u001b[0mresp\u001b[0m\u001b[1;33m,\u001b[0m \u001b[0mapi_code\u001b[0m\u001b[1;33m=\u001b[0m\u001b[0mapi_error_code\u001b[0m\u001b[1;33m)\u001b[0m\u001b[1;33m\u001b[0m\u001b[1;33m\u001b[0m\u001b[0m\n\u001b[0m\u001b[0;32m    234\u001b[0m \u001b[1;33m\u001b[0m\u001b[0m\n\u001b[0;32m    235\u001b[0m             \u001b[1;31m# Parse the response payload\u001b[0m\u001b[1;33m\u001b[0m\u001b[1;33m\u001b[0m\u001b[1;33m\u001b[0m\u001b[0m\n",
      "\u001b[1;31mTweepError\u001b[0m: [{'code': 144, 'message': 'No status found with that ID.'}]"
     ]
    }
   ],
   "source": [
    "tweets = pd.read_csv('Neg_Tweets_new.csv')\n",
    "tweets=tweets.drop(['Unnamed: 0'],axis=1)\n",
    "to_delete_ids = []\n",
    "tweets=tweets[tweets['toxicity']>=0.7]\n",
    "to_delete_ids=str(tweets['ids'])\n",
    "#print(to_delete_ids)\n",
    "delete_count = 0\n",
    "# for tweet in tweets:\n",
    "#     to_delete_ids.append(your_csv_file[1])\n",
    "\n",
    "# delete marked tweets by status ID\n",
    "for status_id in to_delete_ids:\n",
    "        api.destroy_status(status_id)\n",
    "        print(status_id, 'deleted!')\n",
    "        delete_count += 1 \n"
   ]
  }
 ],
 "metadata": {
  "kernelspec": {
   "display_name": "Python 3",
   "language": "python",
   "name": "python3"
  },
  "language_info": {
   "codemirror_mode": {
    "name": "ipython",
    "version": 3
   },
   "file_extension": ".py",
   "mimetype": "text/x-python",
   "name": "python",
   "nbconvert_exporter": "python",
   "pygments_lexer": "ipython3",
   "version": "3.6.8"
  }
 },
 "nbformat": 4,
 "nbformat_minor": 2
}
