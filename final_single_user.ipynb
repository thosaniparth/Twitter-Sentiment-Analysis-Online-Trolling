{
 "cells": [
  {
   "cell_type": "code",
   "execution_count": 4,
   "metadata": {},
   "outputs": [
    {
     "name": "stdout",
     "output_type": "stream",
     "text": [
      "you are bad person\n",
      "you are bad person\n",
      "1236212419203969024\n",
      "-----------------------------------------\n",
      "i will kill you\n",
      "i will kill you\n",
      "1236212312970645504\n",
      "-----------------------------------------\n",
      "pakistan is the worst team in the world\n",
      "pakistan is the worst team in the world\n",
      "1236190923597344769\n",
      "-----------------------------------------\n",
      "india is the best team in the world\n",
      "india is the best team in the world\n",
      "1236190848322166784\n",
      "-----------------------------------------\n",
      "winning and losing are a part of life\n",
      "winning and losing are a part of life\n",
      "1236190447027900417\n",
      "-----------------------------------------\n",
      "i hate everyone who is selfish\n",
      "i hate everyone who is selfish\n",
      "1236185284435308546\n",
      "-----------------------------------------\n",
      "this world is beautiful\n",
      "this world is beautiful\n",
      "1236184941005697024\n",
      "-----------------------------------------\n",
      "i will kill all of you\n",
      "i will kill all of you\n",
      "1236184860336590849\n",
      "-----------------------------------------\n",
      "you are very bad person\n",
      "you are very bad person\n",
      "1236184200430018560\n",
      "-----------------------------------------\n",
      "india is the best country in the world\n",
      "india is the best country in the world\n",
      "1236177454646980608\n"
     ]
    }
   ],
   "source": [
    "# Once all the credentials are in place, use the code below to fetch the data.\n",
    "\n",
    "# Install tweepy\n",
    "# !pip install tweepy\n",
    "\n",
    "# Import the libraries\n",
    "import numpy as np\n",
    "import tweepy\n",
    "import json\n",
    "import pandas as pd\n",
    "from tweepy import OAuthHandler\n",
    "import re\n",
    "\n",
    "def clean_tweet(tweet):\n",
    "    return ' '.join(re.sub('(@[A-Za-z0-9]+)|([^0-9A-Za-z \\t])|(\\w+:\\/\\/\\S+)', ' ', tweet).split())\n",
    "\n",
    "# # credentials  --> put your credentials here\n",
    "# consumer_key = \"w4y5wwwOAZgazsHNGeGwx6doW\"\n",
    "# consumer_secret = \"oOn5KHkhZnkyTCtg8IZT7Hgv3BJ8N3Rmitl6xROSTNXXGCRrSm\"\n",
    "# access_token = \"898566612537573377-mPIE4i6Ms3CQUCG2OBYoXHwz4BWlqRh\"\n",
    "# access_token_secret = \"j5ys2QNaRYQ6oc4pZIMpfenmGGeb7sBBzBEJ8UzuD6VGN\"\n",
    "\n",
    "\n",
    "consumer_key = \"o876NPDQMXStGaTvRcpcKoFzs\"\n",
    "consumer_secret = \"XzQj2FhHN8IpqjEcZKr61GK2gm4C4W3n4vIaHEugrlVQ0Ehyit\"\n",
    "access_token = \"898566612537573377-z4SGJitLOnDhvJZWDjCrzatHB2G9E8U\"\n",
    "access_token_secret = \"toNufkVFyuPv57JCOr8oYGBpBdUD7ItnTRW4naUeAPJJz\"\n",
    "\n",
    "# calling API\n",
    "auth = tweepy.OAuthHandler(consumer_key, consumer_secret)\n",
    "auth.set_access_token(access_token, access_token_secret)\n",
    "api = tweepy.API(auth)\n",
    "\n",
    "# Provide the query you want to pull the data. For example,\n",
    "# pulling data for \"bollywood stars\"\n",
    "# start by creating an empty DataFrame with the columns we'll need\n",
    "df = pd.DataFrame()\n",
    "\n",
    "# Fetching tweets\n",
    "#Tweets = api.search(query, count = 10, lang='en', exclude='retweets',tweet_mode='extended')\n",
    "new_tweets = api.user_timeline(screen_name =\"JaydeepVaghas17\" ,count=10,lang='en')\n",
    "i=0\n",
    "for tweet in new_tweets :\n",
    "    if tweet.lang == \"en\":\n",
    "        print(tweet.text)\n",
    "        print(i, end='\\r')\n",
    "        df.loc[i,'ids']=str(tweet.id)\n",
    "        df.loc[i, 'user'] = tweet.user.name\n",
    "        df.loc[i, 'text'] = clean_tweet(tweet.text)\n",
    "        df.to_excel('{}.xlsx'.format(\"final_done\"))\n",
    "        print(tweet.text)\n",
    "        print(tweet.id)\n",
    "    i+=1\n",
    "    if i == 10:\n",
    "        break\n",
    "    else:\n",
    "        pass\n",
    "    print(\"-----------------------------------------\")\n",
    "    \n",
    "# The query above will pull the top 10 tweets when the term \"bollywood stars\" \n",
    "# is searched. The API will pull English tweets since the language \n",
    "# given is ‘en’ and it will exclude retweets."
   ]
  },
  {
   "cell_type": "code",
   "execution_count": null,
   "metadata": {},
   "outputs": [],
   "source": [
    "# # Next, lets define a function as follows.\n",
    "# #count=100, lang='en',exclude='retweets'\n",
    "# def stream(screen_name,file_name):\n",
    "#     i = 0\n",
    "#     for tweet in tweepy.Cursor(api.user_timeline, screen_name=screen_name,lang='en',exclude='retweets').items():\n",
    "#         if tweet.lang==\"en\":\n",
    "#         print(i, end='\\r')\n",
    "#         df.loc[i,'tid']=tweet.id\n",
    "#         df.loc[i, 'Tweets'] = tweet.text\n",
    "#         df.loc[i, 'User'] = tweet.user.name\n",
    "#         df.loc[i, 'user_followers'] = tweet.user.followers_count\n",
    "#         df.loc[i, 'User_location'] = tweet.user.location\n",
    "#         df.loc[i, 'tweet_date'] = tweet.created_at\n",
    "#         df.to_excel('{}.xlsx'.format(file_name))\n",
    "\n",
    "#         #print(tweet.text)\n",
    "#         i+=1\n",
    "#         if i == 100:\n",
    "#             break\n",
    "#         else:\n",
    "#             pass"
   ]
  },
  {
   "cell_type": "code",
   "execution_count": null,
   "metadata": {},
   "outputs": [],
   "source": [
    "# stream(\"narendramodi\",file_name=\"Namo_mc2\")"
   ]
  },
  {
   "cell_type": "code",
   "execution_count": 20,
   "metadata": {},
   "outputs": [
    {
     "data": {
      "text/plain": [
       "tid                       object\n",
       "Tweets                    object\n",
       "User                      object\n",
       "user_followers           float64\n",
       "User_location             object\n",
       "tweet_date        datetime64[ns]\n",
       "dtype: object"
      ]
     },
     "execution_count": 20,
     "metadata": {},
     "output_type": "execute_result"
    }
   ],
   "source": [
    "df.dtypes"
   ]
  },
  {
   "cell_type": "code",
   "execution_count": null,
   "metadata": {},
   "outputs": [],
   "source": []
  }
 ],
 "metadata": {
  "kernelspec": {
   "display_name": "Python 3",
   "language": "python",
   "name": "python3"
  },
  "language_info": {
   "codemirror_mode": {
    "name": "ipython",
    "version": 3
   },
   "file_extension": ".py",
   "mimetype": "text/x-python",
   "name": "python",
   "nbconvert_exporter": "python",
   "pygments_lexer": "ipython3",
   "version": "3.6.8"
  }
 },
 "nbformat": 4,
 "nbformat_minor": 2
}
