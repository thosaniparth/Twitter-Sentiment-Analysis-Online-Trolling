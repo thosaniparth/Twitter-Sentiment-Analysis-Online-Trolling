{
 "cells": [
  {
   "cell_type": "code",
   "execution_count": 1,
   "metadata": {},
   "outputs": [
    {
     "name": "stdout",
     "output_type": "stream",
     "text": [
      "Authenticate at https://api.twitter.com/oauth/authorize?oauth_token=-4vMxwAAAAABC6brAAABcLIbu5k and then enter you verification code here > JhcV0JQqXJXYLjn2Hm1aC5I12MtRnY68\n",
      "Authenticated as: JaydeepVaghas17\n",
      "You are about to Delete all tweets from the account @JaydeepVaghas17\n",
      "Does this sound ok? There is no undo! Type yes to carry out this action.\n",
      "> yes\n"
     ]
    }
   ],
   "source": [
    "# -*- coding: utf-8 -*-\n",
    "\"\"\"\n",
    "This script will delete all of the tweets in the specified account.\n",
    "You may need to hit the \"more\" button on the bottom of your twitter profile\n",
    "page every now and then as the script runs, this is due to a bug in twitter.\n",
    "You will need to get a consumer key and consumer secret token to use this\n",
    "script, you can do so by registering a twitter application at https://dev.twitter.com/apps\n",
    "@requirements: Python 2.5+, Tweepy (http://pypi.python.org/pypi/tweepy/1.7.1)\n",
    "@author: Dave Jeffery\n",
    "\"\"\"\n",
    "\n",
    "import tweepy\n",
    "\n",
    "CONSUMER_KEY = \"Gr8pUm7K2DVeKxHprRYdlR3at\"\n",
    "CONSUMER_SECRET = \"vrgYEhYKrQuo7oSMuXGALxtzNw7lImcomjUkKRyKD1k1VN9bGI\"\n",
    "\n",
    "def oauth_login(consumer_key, consumer_secret):\n",
    "    \"\"\"Authenticate with twitter using OAuth\"\"\"\n",
    "    \n",
    "    auth = tweepy.OAuthHandler(consumer_key, consumer_secret)\n",
    "    auth_url = auth.get_authorization_url()\n",
    "    \n",
    "    verify_code = input(\"Authenticate at %s and then enter you verification code here > \" % auth_url) \n",
    "    auth.get_access_token(verify_code)\n",
    "    \n",
    "    return tweepy.API(auth)\n",
    "\n",
    "def batch_delete(api):\n",
    "    print (\"You are about to Delete all tweets from the account @%s\" % api.verify_credentials().screen_name)\n",
    "    print (\"Does this sound ok? There is no undo! Type yes to carry out this action.\")\n",
    "    do_delete = input(\"> \")\n",
    "    if do_delete.lower() == 'yes':\n",
    "        for status in tweepy.Cursor(api.user_timeline).items():\n",
    "            try:\n",
    "                api.destroy_status(status.id)\n",
    "                print (\"Deleted:\", status.id)\n",
    "            except:\n",
    "                print (\"Failed to delete:\", status.id)\n",
    "\n",
    "if __name__ == \"__main__\":\n",
    "    api = oauth_login(CONSUMER_KEY, CONSUMER_SECRET)\n",
    "    print (\"Authenticated as: %s\" % api.me().screen_name)\n",
    "    batch_delete(api)"
   ]
  }
 ],
 "metadata": {
  "kernelspec": {
   "display_name": "Python 3",
   "language": "python",
   "name": "python3"
  },
  "language_info": {
   "codemirror_mode": {
    "name": "ipython",
    "version": 3
   },
   "file_extension": ".py",
   "mimetype": "text/x-python",
   "name": "python",
   "nbconvert_exporter": "python",
   "pygments_lexer": "ipython3",
   "version": "3.6.8"
  }
 },
 "nbformat": 4,
 "nbformat_minor": 2
}
