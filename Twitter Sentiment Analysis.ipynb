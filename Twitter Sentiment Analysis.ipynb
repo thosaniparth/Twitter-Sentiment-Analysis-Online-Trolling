{
 "cells": [
  {
   "cell_type": "markdown",
   "metadata": {
    "_uuid": "92b885dd147dac19bd0a33db3cd0da100bd5bc23"
   },
   "source": [
    "# Twitter Sentiment Analysis"
   ]
  },
  {
   "cell_type": "code",
   "execution_count": 80,
   "metadata": {
    "_uuid": "70282bce8b42a51e4d44f2c7d85c4ca9567b0fd4"
   },
   "outputs": [
    {
     "name": "stdout",
     "output_type": "stream",
     "text": [
      "Requirement already up-to-date: gensim in c:\\users\\hp\\appdata\\local\\programs\\python\\python36\\lib\\site-packages (3.8.1)\n",
      "Requirement already satisfied, skipping upgrade: numpy>=1.11.3 in c:\\users\\hp\\appdata\\local\\programs\\python\\python36\\lib\\site-packages (from gensim) (1.17.4)\n",
      "Requirement already satisfied, skipping upgrade: smart-open>=1.8.1 in c:\\users\\hp\\appdata\\local\\programs\\python\\python36\\lib\\site-packages (from gensim) (1.9.0)\n",
      "Requirement already satisfied, skipping upgrade: six>=1.5.0 in c:\\users\\hp\\appdata\\local\\programs\\python\\python36\\lib\\site-packages (from gensim) (1.13.0)\n",
      "Requirement already satisfied, skipping upgrade: scipy>=0.18.1 in c:\\users\\hp\\appdata\\local\\programs\\python\\python36\\lib\\site-packages (from gensim) (1.3.3)\n",
      "Requirement already satisfied, skipping upgrade: requests in c:\\users\\hp\\appdata\\local\\programs\\python\\python36\\lib\\site-packages (from smart-open>=1.8.1->gensim) (2.22.0)\n",
      "Requirement already satisfied, skipping upgrade: boto>=2.32 in c:\\users\\hp\\appdata\\local\\programs\\python\\python36\\lib\\site-packages (from smart-open>=1.8.1->gensim) (2.49.0)\n",
      "Requirement already satisfied, skipping upgrade: boto3 in c:\\users\\hp\\appdata\\local\\programs\\python\\python36\\lib\\site-packages (from smart-open>=1.8.1->gensim) (1.12.15)\n",
      "Requirement already satisfied, skipping upgrade: urllib3!=1.25.0,!=1.25.1,<1.26,>=1.21.1 in c:\\users\\hp\\appdata\\local\\programs\\python\\python36\\lib\\site-packages (from requests->smart-open>=1.8.1->gensim) (1.25.7)\n",
      "Requirement already satisfied, skipping upgrade: idna<2.9,>=2.5 in c:\\users\\hp\\appdata\\local\\programs\\python\\python36\\lib\\site-packages (from requests->smart-open>=1.8.1->gensim) (2.8)\n",
      "Requirement already satisfied, skipping upgrade: chardet<3.1.0,>=3.0.2 in c:\\users\\hp\\appdata\\local\\programs\\python\\python36\\lib\\site-packages (from requests->smart-open>=1.8.1->gensim) (3.0.4)\n",
      "Requirement already satisfied, skipping upgrade: certifi>=2017.4.17 in c:\\users\\hp\\appdata\\local\\programs\\python\\python36\\lib\\site-packages (from requests->smart-open>=1.8.1->gensim) (2019.11.28)\n",
      "Requirement already satisfied, skipping upgrade: jmespath<1.0.0,>=0.7.1 in c:\\users\\hp\\appdata\\local\\programs\\python\\python36\\lib\\site-packages (from boto3->smart-open>=1.8.1->gensim) (0.9.5)\n",
      "Requirement already satisfied, skipping upgrade: botocore<1.16.0,>=1.15.15 in c:\\users\\hp\\appdata\\local\\programs\\python\\python36\\lib\\site-packages (from boto3->smart-open>=1.8.1->gensim) (1.15.15)\n",
      "Requirement already satisfied, skipping upgrade: s3transfer<0.4.0,>=0.3.0 in c:\\users\\hp\\appdata\\local\\programs\\python\\python36\\lib\\site-packages (from boto3->smart-open>=1.8.1->gensim) (0.3.3)\n",
      "Requirement already satisfied, skipping upgrade: docutils<0.16,>=0.10 in c:\\users\\hp\\appdata\\local\\programs\\python\\python36\\lib\\site-packages (from botocore<1.16.0,>=1.15.15->boto3->smart-open>=1.8.1->gensim) (0.15.2)\n",
      "Requirement already satisfied, skipping upgrade: python-dateutil<3.0.0,>=2.1 in c:\\users\\hp\\appdata\\local\\programs\\python\\python36\\lib\\site-packages (from botocore<1.16.0,>=1.15.15->boto3->smart-open>=1.8.1->gensim) (2.8.1)\n",
      "Requirement already satisfied: keras==2.1.5 in c:\\users\\hp\\appdata\\local\\programs\\python\\python36\\lib\\site-packages (2.1.5)\n",
      "Requirement already satisfied: six>=1.9.0 in c:\\users\\hp\\appdata\\local\\programs\\python\\python36\\lib\\site-packages (from keras==2.1.5) (1.13.0)\n",
      "Requirement already satisfied: scipy>=0.14 in c:\\users\\hp\\appdata\\local\\programs\\python\\python36\\lib\\site-packages (from keras==2.1.5) (1.3.3)\n",
      "Requirement already satisfied: pyyaml in c:\\users\\hp\\appdata\\local\\programs\\python\\python36\\lib\\site-packages (from keras==2.1.5) (5.1.2)\n",
      "Requirement already satisfied: numpy>=1.9.1 in c:\\users\\hp\\appdata\\local\\programs\\python\\python36\\lib\\site-packages (from keras==2.1.5) (1.17.4)\n",
      "Requirement already up-to-date: pandas in c:\\users\\hp\\appdata\\local\\programs\\python\\python36\\lib\\site-packages (1.0.1)\n",
      "Requirement already satisfied, skipping upgrade: numpy>=1.13.3 in c:\\users\\hp\\appdata\\local\\programs\\python\\python36\\lib\\site-packages (from pandas) (1.17.4)\n",
      "Requirement already satisfied, skipping upgrade: pytz>=2017.2 in c:\\users\\hp\\appdata\\local\\programs\\python\\python36\\lib\\site-packages (from pandas) (2019.3)\n",
      "Requirement already satisfied, skipping upgrade: python-dateutil>=2.6.1 in c:\\users\\hp\\appdata\\local\\programs\\python\\python36\\lib\\site-packages (from pandas) (2.8.1)\n",
      "Requirement already satisfied, skipping upgrade: six>=1.5 in c:\\users\\hp\\appdata\\local\\programs\\python\\python36\\lib\\site-packages (from python-dateutil>=2.6.1->pandas) (1.13.0)\n"
     ]
    }
   ],
   "source": [
    "!pip install gensim --upgrade\n",
    "!pip install keras==2.1.5\n",
    "!pip install pandas --upgrade"
   ]
  },
  {
   "cell_type": "code",
   "execution_count": 132,
   "metadata": {
    "_uuid": "303e72966af732ddef0bd8108a321095314e44af"
   },
   "outputs": [],
   "source": [
    "# DataFrame\n",
    "import pandas as pd\n",
    "import random\n",
    "\n",
    "# Matplot\n",
    "import matplotlib.pyplot as plt\n",
    "%matplotlib inline\n",
    "\n",
    "# Scikit-learn\n",
    "from sklearn.model_selection import train_test_split\n",
    "from sklearn.preprocessing import LabelEncoder\n",
    "from sklearn.metrics import confusion_matrix, classification_report, accuracy_score\n",
    "from sklearn.manifold import TSNE\n",
    "from sklearn.feature_extraction.text import TfidfVectorizer\n",
    "\n",
    "# Keras\n",
    "from keras.preprocessing.text import Tokenizer\n",
    "from keras.preprocessing.sequence import pad_sequences\n",
    "from keras.models import Sequential\n",
    "from keras.layers import Activation, Dense, Dropout, Embedding, Flatten, Conv1D, MaxPooling1D, LSTM\n",
    "from keras import utils\n",
    "from keras.callbacks import ReduceLROnPlateau, EarlyStopping\n",
    "\n",
    "# nltk\n",
    "import nltk\n",
    "from nltk.corpus import stopwords\n",
    "from  nltk.stem import SnowballStemmer\n",
    "\n",
    "# Word2vec\n",
    "import gensim\n",
    "\n",
    "# Utility\n",
    "import re\n",
    "import numpy as np\n",
    "import os\n",
    "from collections import Counter\n",
    "import logging\n",
    "import time\n",
    "import pickle\n",
    "import itertools\n",
    "\n",
    "# Set log\n",
    "logging.basicConfig(format='%(asctime)s : %(levelname)s : %(message)s', level=logging.INFO)"
   ]
  },
  {
   "cell_type": "code",
   "execution_count": 133,
   "metadata": {
    "_uuid": "35e1a89dead5fd160e4c9a024a21d2e569fc89ff"
   },
   "outputs": [
    {
     "name": "stderr",
     "output_type": "stream",
     "text": [
      "[nltk_data] Downloading package stopwords to\n",
      "[nltk_data]     C:\\Users\\Hp\\AppData\\Roaming\\nltk_data...\n",
      "[nltk_data]   Package stopwords is already up-to-date!\n"
     ]
    },
    {
     "data": {
      "text/plain": [
       "True"
      ]
     },
     "execution_count": 133,
     "metadata": {},
     "output_type": "execute_result"
    }
   ],
   "source": [
    "nltk.download('stopwords')"
   ]
  },
  {
   "cell_type": "markdown",
   "metadata": {
    "_uuid": "e8b01a07df001e4abcc745900336c4db06e455f3"
   },
   "source": [
    "### Settings"
   ]
  },
  {
   "cell_type": "code",
   "execution_count": 246,
   "metadata": {
    "_uuid": "180f0dd2a95419e4602b5c0229822b0111c826f6"
   },
   "outputs": [],
   "source": [
    "# DATASET\n",
    "DATASET_COLUMNS = [\"target\", \"ids\", \"date\", \"flag\", \"user\", \"text\"]\n",
    "DATASET_ENCODING = \"ISO-8859-1\"\n",
    "TRAIN_SIZE = 0.8\n",
    "\n",
    "# TEXT CLENAING\n",
    "TEXT_CLEANING_RE = \"@\\S+|https?:\\S+|http?:\\S|[^A-Za-z0-9]+\"\n",
    "\n",
    "# WORD2VEC \n",
    "W2V_SIZE = 300\n",
    "W2V_WINDOW = 7\n",
    "W2V_EPOCH = 32\n",
    "W2V_MIN_COUNT = 10\n",
    "\n",
    "# KERAS\n",
    "SEQUENCE_LENGTH = 300\n",
    "EPOCHS = 1\n",
    "BATCH_SIZE = 1024\n",
    "\n",
    "# SENTIMENT\n",
    "POSITIVE = \"POSITIVE\"\n",
    "NEGATIVE = \"NEGATIVE\"\n",
    "NEUTRAL = \"NEUTRAL\"\n",
    "SENTIMENT_THRESHOLDS = (0.4, 0.7)\n",
    "\n",
    "# EXPORT\n",
    "KERAS_MODEL = \"model_final.h5\"\n",
    "WORD2VEC_MODEL = \"model_final.w2v\"\n",
    "TOKENIZER_MODEL = \"tokenizer_final.pkl\"\n",
    "ENCODER_MODEL = \"encoder_final.pkl\""
   ]
  },
  {
   "cell_type": "markdown",
   "metadata": {
    "_uuid": "1c3beecc618be68480b3d4f0de08d9d863da1dc1"
   },
   "source": [
    "### Read Dataset"
   ]
  },
  {
   "cell_type": "markdown",
   "metadata": {
    "_uuid": "563b3c44f1092dba0b853747b098e00509098cca"
   },
   "source": [
    "### Dataset details\n",
    "* **target**: the polarity of the tweet (0 = negative, 2 = neutral, 4 = positive)\n",
    "* **ids**: The id of the tweet ( 2087)\n",
    "* **date**: the date of the tweet (Sat May 16 23:58:44 UTC 2009)\n",
    "* **flag**: The query (lyx). If there is no query, then this value is NO_QUERY.\n",
    "* **user**: the user that tweeted (robotickilldozr)\n",
    "* **text**: the text of the tweet (Lyx is cool)"
   ]
  },
  {
   "cell_type": "code",
   "execution_count": 135,
   "metadata": {
    "_uuid": "bba8f91cd70de4f5ea0fb0870ae2029b6e3dcc24"
   },
   "outputs": [],
   "source": [
    "# dataset_filename = os.listdir(\"../input\")[0]\n",
    "# dataset_path = os.path.join(\"..\",\"input\",dataset_filename)\n",
    "# print(\"Open file:\", dataset_path)\n",
    "df = pd.read_csv(\"training.1600000.processed.noemoticon.csv\", encoding =DATASET_ENCODING , names=DATASET_COLUMNS)"
   ]
  },
  {
   "cell_type": "code",
   "execution_count": 136,
   "metadata": {
    "_uuid": "936d499c00c4f1648bc16ca9d283c3b39be7fb10"
   },
   "outputs": [
    {
     "name": "stdout",
     "output_type": "stream",
     "text": [
      "Dataset size: 1600000\n"
     ]
    }
   ],
   "source": [
    "print(\"Dataset size:\", len(df))"
   ]
  },
  {
   "cell_type": "code",
   "execution_count": 139,
   "metadata": {},
   "outputs": [
    {
     "name": "stdout",
     "output_type": "stream",
     "text": [
      "(50000, 6)\n",
      "(50000, 6)\n"
     ]
    },
    {
     "data": {
      "text/plain": [
       "(100000, 4)"
      ]
     },
     "execution_count": 139,
     "metadata": {},
     "output_type": "execute_result"
    }
   ],
   "source": [
    "df_pos = df[df['target'] == 0] \n",
    "df_neg = df[df['target'] == 4] \n",
    "\n",
    "df_pos=df_pos[0:50000]\n",
    "df_neg=df_neg[0:50000]\n",
    "\n",
    "print(df_pos.shape)\n",
    "print(df_neg.shape)\n",
    "\n",
    "df=pd.concat([df_pos,df_neg])\n",
    "df=df.sample(frac=1)\n",
    "df=df.drop(['date','flag'],axis=1)\n",
    "df.shape"
   ]
  },
  {
   "cell_type": "code",
   "execution_count": 140,
   "metadata": {},
   "outputs": [
    {
     "data": {
      "text/plain": [
       "(100000, 4)"
      ]
     },
     "execution_count": 140,
     "metadata": {},
     "output_type": "execute_result"
    }
   ],
   "source": [
    "df.shape"
   ]
  },
  {
   "cell_type": "code",
   "execution_count": 88,
   "metadata": {},
   "outputs": [
    {
     "data": {
      "text/plain": [
       "<bound method NDFrame.head of         target         ids                          date      flag  \\\n",
       "838409       4  1559069283  Sun Apr 19 10:10:27 PDT 2009  NO_QUERY   \n",
       "810354       4  1469758223  Tue Apr 07 07:19:59 PDT 2009  NO_QUERY   \n",
       "843959       4  1563972706  Mon Apr 20 01:07:41 PDT 2009  NO_QUERY   \n",
       "830352       4  1557296915  Sun Apr 19 03:13:29 PDT 2009  NO_QUERY   \n",
       "15824        0  1554519278  Sat Apr 18 17:13:04 PDT 2009  NO_QUERY   \n",
       "...        ...         ...                           ...       ...   \n",
       "831011       4  1557387627  Sun Apr 19 03:48:17 PDT 2009  NO_QUERY   \n",
       "831685       4  1557482871  Sun Apr 19 04:23:14 PDT 2009  NO_QUERY   \n",
       "39370        0  1573511982  Tue Apr 21 01:31:10 PDT 2009  NO_QUERY   \n",
       "22081        0  1557409689  Sun Apr 19 03:56:41 PDT 2009  NO_QUERY   \n",
       "809453       4  1469475691  Tue Apr 07 06:29:52 PDT 2009  NO_QUERY   \n",
       "\n",
       "                   user                                               text  \n",
       "838409      kerryetches                         Hello to my new followers   \n",
       "810354        deedoes06  last full day in menom till next week!!! lets ...  \n",
       "843959           panina  @aplusk fantastic!i wanna be the record-woman ...  \n",
       "830352           Meisem  Goooooooood morning all twitters  The time in ...  \n",
       "15824         cjclowers  Everyone is gone home - What a fun day!  Too q...  \n",
       "...                 ...                                                ...  \n",
       "831011         Legion11  @MarkDalton I bought the VX a few weeks back. ...  \n",
       "831685         ink3d0ut  Is going to show her cuban friend how to play ...  \n",
       "39370   monkeycat_fever  @andrealucia yo BZ i miss you fool. we spend a...  \n",
       "22081         emaatwell                         gotta clean up my room :O   \n",
       "809453   bonezrodriguez         @unihumi thanks stefan  i feel so special!  \n",
       "\n",
       "[100000 rows x 6 columns]>"
      ]
     },
     "execution_count": 88,
     "metadata": {},
     "output_type": "execute_result"
    }
   ],
   "source": [
    "df.head"
   ]
  },
  {
   "cell_type": "code",
   "execution_count": 89,
   "metadata": {
    "_uuid": "7486ed895b813c5246f97b31b6162b0f65ff763b"
   },
   "outputs": [
    {
     "data": {
      "text/html": [
       "<div>\n",
       "<style scoped>\n",
       "    .dataframe tbody tr th:only-of-type {\n",
       "        vertical-align: middle;\n",
       "    }\n",
       "\n",
       "    .dataframe tbody tr th {\n",
       "        vertical-align: top;\n",
       "    }\n",
       "\n",
       "    .dataframe thead th {\n",
       "        text-align: right;\n",
       "    }\n",
       "</style>\n",
       "<table border=\"1\" class=\"dataframe\">\n",
       "  <thead>\n",
       "    <tr style=\"text-align: right;\">\n",
       "      <th></th>\n",
       "      <th>target</th>\n",
       "      <th>ids</th>\n",
       "      <th>date</th>\n",
       "      <th>flag</th>\n",
       "      <th>user</th>\n",
       "      <th>text</th>\n",
       "    </tr>\n",
       "  </thead>\n",
       "  <tbody>\n",
       "    <tr>\n",
       "      <th>838409</th>\n",
       "      <td>4</td>\n",
       "      <td>1559069283</td>\n",
       "      <td>Sun Apr 19 10:10:27 PDT 2009</td>\n",
       "      <td>NO_QUERY</td>\n",
       "      <td>kerryetches</td>\n",
       "      <td>Hello to my new followers</td>\n",
       "    </tr>\n",
       "    <tr>\n",
       "      <th>810354</th>\n",
       "      <td>4</td>\n",
       "      <td>1469758223</td>\n",
       "      <td>Tue Apr 07 07:19:59 PDT 2009</td>\n",
       "      <td>NO_QUERY</td>\n",
       "      <td>deedoes06</td>\n",
       "      <td>last full day in menom till next week!!! lets ...</td>\n",
       "    </tr>\n",
       "    <tr>\n",
       "      <th>843959</th>\n",
       "      <td>4</td>\n",
       "      <td>1563972706</td>\n",
       "      <td>Mon Apr 20 01:07:41 PDT 2009</td>\n",
       "      <td>NO_QUERY</td>\n",
       "      <td>panina</td>\n",
       "      <td>@aplusk fantastic!i wanna be the record-woman ...</td>\n",
       "    </tr>\n",
       "    <tr>\n",
       "      <th>830352</th>\n",
       "      <td>4</td>\n",
       "      <td>1557296915</td>\n",
       "      <td>Sun Apr 19 03:13:29 PDT 2009</td>\n",
       "      <td>NO_QUERY</td>\n",
       "      <td>Meisem</td>\n",
       "      <td>Goooooooood morning all twitters  The time in ...</td>\n",
       "    </tr>\n",
       "    <tr>\n",
       "      <th>15824</th>\n",
       "      <td>0</td>\n",
       "      <td>1554519278</td>\n",
       "      <td>Sat Apr 18 17:13:04 PDT 2009</td>\n",
       "      <td>NO_QUERY</td>\n",
       "      <td>cjclowers</td>\n",
       "      <td>Everyone is gone home - What a fun day!  Too q...</td>\n",
       "    </tr>\n",
       "  </tbody>\n",
       "</table>\n",
       "</div>"
      ],
      "text/plain": [
       "        target         ids                          date      flag  \\\n",
       "838409       4  1559069283  Sun Apr 19 10:10:27 PDT 2009  NO_QUERY   \n",
       "810354       4  1469758223  Tue Apr 07 07:19:59 PDT 2009  NO_QUERY   \n",
       "843959       4  1563972706  Mon Apr 20 01:07:41 PDT 2009  NO_QUERY   \n",
       "830352       4  1557296915  Sun Apr 19 03:13:29 PDT 2009  NO_QUERY   \n",
       "15824        0  1554519278  Sat Apr 18 17:13:04 PDT 2009  NO_QUERY   \n",
       "\n",
       "               user                                               text  \n",
       "838409  kerryetches                         Hello to my new followers   \n",
       "810354    deedoes06  last full day in menom till next week!!! lets ...  \n",
       "843959       panina  @aplusk fantastic!i wanna be the record-woman ...  \n",
       "830352       Meisem  Goooooooood morning all twitters  The time in ...  \n",
       "15824     cjclowers  Everyone is gone home - What a fun day!  Too q...  "
      ]
     },
     "execution_count": 89,
     "metadata": {},
     "output_type": "execute_result"
    }
   ],
   "source": [
    "df.head(5)"
   ]
  },
  {
   "cell_type": "markdown",
   "metadata": {
    "_uuid": "3f9a7bb129e184967b13261fb5d253af451c75c5"
   },
   "source": [
    "### Map target label to String\n",
    "* **0** -> **NEGATIVE**\n",
    "* **2** -> **NEUTRAL**\n",
    "* **4** -> **POSITIVE**"
   ]
  },
  {
   "cell_type": "code",
   "execution_count": 90,
   "metadata": {
    "_uuid": "14074b59106cb9550440839e48b832223fc9502f"
   },
   "outputs": [],
   "source": [
    "decode_map = {0: \"NEGATIVE\", 2: \"NEUTRAL\", 4: \"POSITIVE\"}\n",
    "def decode_sentiment(label):\n",
    "    return decode_map[int(label)]"
   ]
  },
  {
   "cell_type": "code",
   "execution_count": 91,
   "metadata": {
    "_uuid": "4449d473187f647a195a6ac6986b009da32a7f4b"
   },
   "outputs": [
    {
     "name": "stdout",
     "output_type": "stream",
     "text": [
      "Wall time: 80 ms\n"
     ]
    }
   ],
   "source": [
    "%%time\n",
    "df.target = df.target.apply(lambda x: decode_sentiment(x))"
   ]
  },
  {
   "cell_type": "code",
   "execution_count": 92,
   "metadata": {
    "_uuid": "19eb327803192f31cce3512aacb232f4d6b38715"
   },
   "outputs": [
    {
     "data": {
      "text/plain": [
       "Text(0.5, 1.0, 'Dataset labels distribuition')"
      ]
     },
     "execution_count": 92,
     "metadata": {},
     "output_type": "execute_result"
    },
    {
     "data": {
      "image/png": "[encoded data removed]",
      "text/plain": [
       "<Figure size 1152x576 with 1 Axes>"
      ]
     },
     "metadata": {
      "needs_background": "light"
     },
     "output_type": "display_data"
    }
   ],
   "source": [
    "target_cnt = Counter(df.target)\n",
    "\n",
    "plt.figure(figsize=(16,8))\n",
    "plt.bar(target_cnt.keys(), target_cnt.values())\n",
    "plt.title(\"Dataset labels distribuition\")"
   ]
  },
  {
   "cell_type": "markdown",
   "metadata": {
    "_uuid": "4329b1573518b03e497213efa7676220734ebb4b"
   },
   "source": [
    "### Pre-Process dataset"
   ]
  },
  {
   "cell_type": "code",
   "execution_count": 141,
   "metadata": {
    "_uuid": "8aeee8b7b9ea11b749c7f91cd4787a7b50ed1a91"
   },
   "outputs": [],
   "source": [
    "stop_words = stopwords.words(\"english\")\n",
    "stemmer = SnowballStemmer(\"english\")"
   ]
  },
  {
   "cell_type": "code",
   "execution_count": 142,
   "metadata": {
    "_uuid": "649ebcb97969b9ac4301138783704bb3d7846a49"
   },
   "outputs": [],
   "source": [
    "def preprocess(text, stem=False):\n",
    "    # Remove link,user and special characters\n",
    "    text = re.sub(TEXT_CLEANING_RE, ' ', str(text).lower()).strip()\n",
    "    tokens = []\n",
    "    for token in text.split():\n",
    "        if token not in stop_words:\n",
    "            if stem:\n",
    "                tokens.append(stemmer.stem(token))\n",
    "            else:\n",
    "                tokens.append(token)\n",
    "    return \" \".join(tokens)"
   ]
  },
  {
   "cell_type": "code",
   "execution_count": 143,
   "metadata": {
    "_uuid": "f7f3e77ab9291d14687c49e71ba9b2b1e3323432"
   },
   "outputs": [
    {
     "name": "stdout",
     "output_type": "stream",
     "text": [
      "Wall time: 5.64 s\n"
     ]
    }
   ],
   "source": [
    "%%time\n",
    "df.text = df.text.apply(lambda x: preprocess(x))"
   ]
  },
  {
   "cell_type": "markdown",
   "metadata": {
    "_uuid": "f5f9714a8507409bbe780eebf2855a33e8e6ba37"
   },
   "source": [
    "### Split train and test"
   ]
  },
  {
   "cell_type": "code",
   "execution_count": 145,
   "metadata": {
    "_uuid": "d2b1179c968e3f3910c790ecf0c5b2cbb34b0e68"
   },
   "outputs": [
    {
     "name": "stdout",
     "output_type": "stream",
     "text": [
      "TRAIN size: 100000\n"
     ]
    }
   ],
   "source": [
    "#df_train, df_test = train_test_split(df, test_size=1-TRAIN_SIZE, random_state=42)\n",
    "df_train=df\n",
    "print(\"TRAIN size:\", len(df_train))"
   ]
  },
  {
   "cell_type": "code",
   "execution_count": 146,
   "metadata": {},
   "outputs": [
    {
     "data": {
      "text/html": [
       "<div>\n",
       "<style scoped>\n",
       "    .dataframe tbody tr th:only-of-type {\n",
       "        vertical-align: middle;\n",
       "    }\n",
       "\n",
       "    .dataframe tbody tr th {\n",
       "        vertical-align: top;\n",
       "    }\n",
       "\n",
       "    .dataframe thead th {\n",
       "        text-align: right;\n",
       "    }\n",
       "</style>\n",
       "<table border=\"1\" class=\"dataframe\">\n",
       "  <thead>\n",
       "    <tr style=\"text-align: right;\">\n",
       "      <th></th>\n",
       "      <th>target</th>\n",
       "      <th>ids</th>\n",
       "      <th>user</th>\n",
       "      <th>text</th>\n",
       "    </tr>\n",
       "  </thead>\n",
       "  <tbody>\n",
       "    <tr>\n",
       "      <th>809057</th>\n",
       "      <td>4</td>\n",
       "      <td>1469369021</td>\n",
       "      <td>ICETWICE</td>\n",
       "      <td>figured add twitter ad header wordpress blog g...</td>\n",
       "    </tr>\n",
       "    <tr>\n",
       "      <th>816509</th>\n",
       "      <td>4</td>\n",
       "      <td>1551459671</td>\n",
       "      <td>_kimberly</td>\n",
       "      <td>wait told josh get home later year dapat mag b...</td>\n",
       "    </tr>\n",
       "    <tr>\n",
       "      <th>844183</th>\n",
       "      <td>4</td>\n",
       "      <td>1564007402</td>\n",
       "      <td>Donnette</td>\n",
       "      <td>welcome</td>\n",
       "    </tr>\n",
       "    <tr>\n",
       "      <th>822426</th>\n",
       "      <td>4</td>\n",
       "      <td>1554526284</td>\n",
       "      <td>jacobjanzen</td>\n",
       "      <td>oh know cause 1337</td>\n",
       "    </tr>\n",
       "    <tr>\n",
       "      <th>24242</th>\n",
       "      <td>0</td>\n",
       "      <td>1557940421</td>\n",
       "      <td>chingks_baybeh</td>\n",
       "      <td>awwwwwwww poor madonna mean</td>\n",
       "    </tr>\n",
       "    <tr>\n",
       "      <th>...</th>\n",
       "      <td>...</td>\n",
       "      <td>...</td>\n",
       "      <td>...</td>\n",
       "      <td>...</td>\n",
       "    </tr>\n",
       "    <tr>\n",
       "      <th>3055</th>\n",
       "      <td>0</td>\n",
       "      <td>1468507632</td>\n",
       "      <td>43342059</td>\n",
       "      <td>pissed running old man tried trash tent left b...</td>\n",
       "    </tr>\n",
       "    <tr>\n",
       "      <th>33324</th>\n",
       "      <td>0</td>\n",
       "      <td>1564478955</td>\n",
       "      <td>den_26</td>\n",
       "      <td>ugh everything remind quot quot</td>\n",
       "    </tr>\n",
       "    <tr>\n",
       "      <th>19719</th>\n",
       "      <td>0</td>\n",
       "      <td>1556918731</td>\n",
       "      <td>Monkeygrrrl79</td>\n",
       "      <td>absolution closed days work</td>\n",
       "    </tr>\n",
       "    <tr>\n",
       "      <th>40490</th>\n",
       "      <td>0</td>\n",
       "      <td>1573800031</td>\n",
       "      <td>suzanne_xx</td>\n",
       "      <td>geez holidays goes fast</td>\n",
       "    </tr>\n",
       "    <tr>\n",
       "      <th>15159</th>\n",
       "      <td>0</td>\n",
       "      <td>1554014818</td>\n",
       "      <td>HeyMondayislove</td>\n",
       "      <td>sad go movie bff</td>\n",
       "    </tr>\n",
       "  </tbody>\n",
       "</table>\n",
       "<p>100000 rows × 4 columns</p>\n",
       "</div>"
      ],
      "text/plain": [
       "        target         ids             user  \\\n",
       "809057       4  1469369021         ICETWICE   \n",
       "816509       4  1551459671        _kimberly   \n",
       "844183       4  1564007402         Donnette   \n",
       "822426       4  1554526284      jacobjanzen   \n",
       "24242        0  1557940421   chingks_baybeh   \n",
       "...        ...         ...              ...   \n",
       "3055         0  1468507632         43342059   \n",
       "33324        0  1564478955           den_26   \n",
       "19719        0  1556918731    Monkeygrrrl79   \n",
       "40490        0  1573800031       suzanne_xx   \n",
       "15159        0  1554014818  HeyMondayislove   \n",
       "\n",
       "                                                     text  \n",
       "809057  figured add twitter ad header wordpress blog g...  \n",
       "816509  wait told josh get home later year dapat mag b...  \n",
       "844183                                            welcome  \n",
       "822426                                 oh know cause 1337  \n",
       "24242                         awwwwwwww poor madonna mean  \n",
       "...                                                   ...  \n",
       "3055    pissed running old man tried trash tent left b...  \n",
       "33324                     ugh everything remind quot quot  \n",
       "19719                         absolution closed days work  \n",
       "40490                             geez holidays goes fast  \n",
       "15159                                    sad go movie bff  \n",
       "\n",
       "[100000 rows x 4 columns]"
      ]
     },
     "execution_count": 146,
     "metadata": {},
     "output_type": "execute_result"
    }
   ],
   "source": [
    "df_train"
   ]
  },
  {
   "cell_type": "markdown",
   "metadata": {
    "_uuid": "f08a28aab2c3d16d8b9681a7d5d07587153a1cd6"
   },
   "source": [
    "### Word2Vec "
   ]
  },
  {
   "cell_type": "code",
   "execution_count": 147,
   "metadata": {
    "_uuid": "2461bf564de1b4414841933d0c1d1bee5f5cc5a6"
   },
   "outputs": [
    {
     "name": "stdout",
     "output_type": "stream",
     "text": [
      "Wall time: 3.35 s\n"
     ]
    }
   ],
   "source": [
    "%%time\n",
    "documents = [_text.split() for _text in df_train.text] "
   ]
  },
  {
   "cell_type": "code",
   "execution_count": 148,
   "metadata": {
    "_uuid": "8e19b9f25801ba86420decc266d2b3e6fb44f1ea"
   },
   "outputs": [],
   "source": [
    "w2v_model = gensim.models.word2vec.Word2Vec(size=W2V_SIZE, \n",
    "                                            window=W2V_WINDOW, \n",
    "                                            min_count=W2V_MIN_COUNT, \n",
    "                                            workers=8)"
   ]
  },
  {
   "cell_type": "code",
   "execution_count": 149,
   "metadata": {
    "_uuid": "58d655af07653c594bec6bebcfb302a973b0ad9c"
   },
   "outputs": [
    {
     "name": "stderr",
     "output_type": "stream",
     "text": [
      "2020-03-07 01:51:58,636 : INFO : collecting all words and their counts\n",
      "2020-03-07 01:51:58,723 : INFO : PROGRESS: at sentence #0, processed 0 words, keeping 0 word types\n",
      "2020-03-07 01:51:58,801 : INFO : PROGRESS: at sentence #10000, processed 71457 words, keeping 13540 word types\n",
      "2020-03-07 01:51:58,842 : INFO : PROGRESS: at sentence #20000, processed 142664 words, keeping 20738 word types\n",
      "2020-03-07 01:51:58,888 : INFO : PROGRESS: at sentence #30000, processed 214065 words, keeping 26666 word types\n",
      "2020-03-07 01:51:58,928 : INFO : PROGRESS: at sentence #40000, processed 284838 words, keeping 31578 word types\n",
      "2020-03-07 01:51:58,973 : INFO : PROGRESS: at sentence #50000, processed 356339 words, keeping 36162 word types\n",
      "2020-03-07 01:51:59,005 : INFO : PROGRESS: at sentence #60000, processed 428221 words, keeping 40370 word types\n",
      "2020-03-07 01:51:59,058 : INFO : PROGRESS: at sentence #70000, processed 499443 words, keeping 44395 word types\n",
      "2020-03-07 01:51:59,090 : INFO : PROGRESS: at sentence #80000, processed 571018 words, keeping 48114 word types\n",
      "2020-03-07 01:51:59,131 : INFO : PROGRESS: at sentence #90000, processed 642039 words, keeping 51646 word types\n",
      "2020-03-07 01:51:59,183 : INFO : collected 55047 word types from a corpus of 714401 raw words and 100000 sentences\n",
      "2020-03-07 01:51:59,237 : INFO : Loading a fresh vocabulary\n",
      "2020-03-07 01:51:59,338 : INFO : effective_min_count=10 retains 6349 unique words (11% of original 55047, drops 48698)\n",
      "2020-03-07 01:51:59,339 : INFO : effective_min_count=10 leaves 623652 word corpus (87% of original 714401, drops 90749)\n",
      "2020-03-07 01:51:59,383 : INFO : deleting the raw counts dictionary of 55047 items\n",
      "2020-03-07 01:51:59,388 : INFO : sample=0.001 downsamples 52 most-common words\n",
      "2020-03-07 01:51:59,389 : INFO : downsampling leaves estimated 574009 word corpus (92.0% of prior 623652)\n",
      "2020-03-07 01:51:59,478 : INFO : estimated required memory for 6349 words and 300 dimensions: 18412100 bytes\n",
      "2020-03-07 01:51:59,479 : INFO : resetting layer weights\n"
     ]
    }
   ],
   "source": [
    "w2v_model.build_vocab(documents)"
   ]
  },
  {
   "cell_type": "code",
   "execution_count": 150,
   "metadata": {
    "_uuid": "72a5628ca81fd4b8983c12d93ae0bf950b86b6ae"
   },
   "outputs": [
    {
     "name": "stdout",
     "output_type": "stream",
     "text": [
      "Vocab size 6349\n"
     ]
    }
   ],
   "source": [
    "words = w2v_model.wv.vocab.keys()\n",
    "vocab_size = len(words)\n",
    "print(\"Vocab size\", vocab_size)"
   ]
  },
  {
   "cell_type": "code",
   "execution_count": 151,
   "metadata": {
    "_uuid": "68c3e4a5ba07cac3dee67f78ecdd1404c7f83f14"
   },
   "outputs": [
    {
     "name": "stderr",
     "output_type": "stream",
     "text": [
      "2020-03-07 01:52:10,428 : INFO : training model with 8 workers on 6349 vocabulary and 300 features, using sg=0 hs=0 sample=0.001 negative=5 window=7\n",
      "2020-03-07 01:52:11,744 : INFO : EPOCH 1 - PROGRESS: at 68.65% examples, 384416 words/s, in_qsize 16, out_qsize 0\n",
      "2020-03-07 01:52:12,057 : INFO : worker thread finished; awaiting finish of 7 more threads\n",
      "2020-03-07 01:52:12,069 : INFO : worker thread finished; awaiting finish of 6 more threads\n",
      "2020-03-07 01:52:12,077 : INFO : worker thread finished; awaiting finish of 5 more threads\n",
      "2020-03-07 01:52:12,087 : INFO : worker thread finished; awaiting finish of 4 more threads\n",
      "2020-03-07 01:52:12,097 : INFO : worker thread finished; awaiting finish of 3 more threads\n",
      "2020-03-07 01:52:12,113 : INFO : worker thread finished; awaiting finish of 2 more threads\n",
      "2020-03-07 01:52:12,122 : INFO : worker thread finished; awaiting finish of 1 more threads\n",
      "2020-03-07 01:52:12,126 : INFO : worker thread finished; awaiting finish of 0 more threads\n",
      "2020-03-07 01:52:12,130 : INFO : EPOCH - 1 : training on 714401 raw words (573997 effective words) took 1.4s, 407311 effective words/s\n",
      "2020-03-07 01:52:13,201 : INFO : EPOCH 2 - PROGRESS: at 64.42% examples, 359081 words/s, in_qsize 15, out_qsize 0\n",
      "2020-03-07 01:52:13,581 : INFO : worker thread finished; awaiting finish of 7 more threads\n",
      "2020-03-07 01:52:13,598 : INFO : worker thread finished; awaiting finish of 6 more threads\n",
      "2020-03-07 01:52:13,601 : INFO : worker thread finished; awaiting finish of 5 more threads\n",
      "2020-03-07 01:52:13,608 : INFO : worker thread finished; awaiting finish of 4 more threads\n",
      "2020-03-07 01:52:13,627 : INFO : worker thread finished; awaiting finish of 3 more threads\n",
      "2020-03-07 01:52:13,648 : INFO : worker thread finished; awaiting finish of 2 more threads\n",
      "2020-03-07 01:52:13,651 : INFO : worker thread finished; awaiting finish of 1 more threads\n",
      "2020-03-07 01:52:13,657 : INFO : worker thread finished; awaiting finish of 0 more threads\n",
      "2020-03-07 01:52:13,660 : INFO : EPOCH - 2 : training on 714401 raw words (574056 effective words) took 1.5s, 385874 effective words/s\n",
      "2020-03-07 01:52:14,686 : INFO : EPOCH 3 - PROGRESS: at 56.01% examples, 320520 words/s, in_qsize 15, out_qsize 0\n",
      "2020-03-07 01:52:15,111 : INFO : worker thread finished; awaiting finish of 7 more threads\n",
      "2020-03-07 01:52:15,114 : INFO : worker thread finished; awaiting finish of 6 more threads\n",
      "2020-03-07 01:52:15,133 : INFO : worker thread finished; awaiting finish of 5 more threads\n",
      "2020-03-07 01:52:15,136 : INFO : worker thread finished; awaiting finish of 4 more threads\n",
      "2020-03-07 01:52:15,142 : INFO : worker thread finished; awaiting finish of 3 more threads\n",
      "2020-03-07 01:52:15,153 : INFO : worker thread finished; awaiting finish of 2 more threads\n",
      "2020-03-07 01:52:15,164 : INFO : worker thread finished; awaiting finish of 1 more threads\n",
      "2020-03-07 01:52:15,166 : INFO : worker thread finished; awaiting finish of 0 more threads\n",
      "2020-03-07 01:52:15,168 : INFO : EPOCH - 3 : training on 714401 raw words (573995 effective words) took 1.5s, 386622 effective words/s\n",
      "2020-03-07 01:52:16,249 : INFO : EPOCH 4 - PROGRESS: at 50.53% examples, 277375 words/s, in_qsize 14, out_qsize 1\n",
      "2020-03-07 01:52:16,840 : INFO : worker thread finished; awaiting finish of 7 more threads\n",
      "2020-03-07 01:52:16,851 : INFO : worker thread finished; awaiting finish of 6 more threads\n",
      "2020-03-07 01:52:16,856 : INFO : worker thread finished; awaiting finish of 5 more threads\n",
      "2020-03-07 01:52:16,862 : INFO : worker thread finished; awaiting finish of 4 more threads\n",
      "2020-03-07 01:52:16,868 : INFO : worker thread finished; awaiting finish of 3 more threads\n",
      "2020-03-07 01:52:16,897 : INFO : worker thread finished; awaiting finish of 2 more threads\n",
      "2020-03-07 01:52:16,905 : INFO : worker thread finished; awaiting finish of 1 more threads\n",
      "2020-03-07 01:52:16,925 : INFO : worker thread finished; awaiting finish of 0 more threads\n",
      "2020-03-07 01:52:16,928 : INFO : EPOCH - 4 : training on 714401 raw words (574127 effective words) took 1.7s, 333697 effective words/s\n",
      "2020-03-07 01:52:17,977 : INFO : EPOCH 5 - PROGRESS: at 57.42% examples, 320706 words/s, in_qsize 14, out_qsize 1\n",
      "2020-03-07 01:52:18,343 : INFO : worker thread finished; awaiting finish of 7 more threads\n",
      "2020-03-07 01:52:18,377 : INFO : worker thread finished; awaiting finish of 6 more threads\n",
      "2020-03-07 01:52:18,380 : INFO : worker thread finished; awaiting finish of 5 more threads\n",
      "2020-03-07 01:52:18,396 : INFO : worker thread finished; awaiting finish of 4 more threads\n",
      "2020-03-07 01:52:18,411 : INFO : worker thread finished; awaiting finish of 3 more threads\n",
      "2020-03-07 01:52:18,416 : INFO : worker thread finished; awaiting finish of 2 more threads\n",
      "2020-03-07 01:52:18,439 : INFO : worker thread finished; awaiting finish of 1 more threads\n",
      "2020-03-07 01:52:18,452 : INFO : worker thread finished; awaiting finish of 0 more threads\n",
      "2020-03-07 01:52:18,455 : INFO : EPOCH - 5 : training on 714401 raw words (574228 effective words) took 1.5s, 381724 effective words/s\n",
      "2020-03-07 01:52:19,585 : INFO : EPOCH 6 - PROGRESS: at 60.22% examples, 314504 words/s, in_qsize 12, out_qsize 3\n",
      "2020-03-07 01:52:19,943 : INFO : worker thread finished; awaiting finish of 7 more threads\n",
      "2020-03-07 01:52:19,946 : INFO : worker thread finished; awaiting finish of 6 more threads\n",
      "2020-03-07 01:52:19,949 : INFO : worker thread finished; awaiting finish of 5 more threads\n",
      "2020-03-07 01:52:19,955 : INFO : worker thread finished; awaiting finish of 4 more threads\n",
      "2020-03-07 01:52:19,959 : INFO : worker thread finished; awaiting finish of 3 more threads\n",
      "2020-03-07 01:52:19,983 : INFO : worker thread finished; awaiting finish of 2 more threads\n",
      "2020-03-07 01:52:19,988 : INFO : worker thread finished; awaiting finish of 1 more threads\n",
      "2020-03-07 01:52:20,009 : INFO : worker thread finished; awaiting finish of 0 more threads\n",
      "2020-03-07 01:52:20,012 : INFO : EPOCH - 6 : training on 714401 raw words (574146 effective words) took 1.5s, 376305 effective words/s\n",
      "2020-03-07 01:52:21,155 : INFO : EPOCH 7 - PROGRESS: at 51.86% examples, 279836 words/s, in_qsize 15, out_qsize 0\n",
      "2020-03-07 01:52:21,764 : INFO : worker thread finished; awaiting finish of 7 more threads\n",
      "2020-03-07 01:52:21,804 : INFO : worker thread finished; awaiting finish of 6 more threads\n",
      "2020-03-07 01:52:21,833 : INFO : worker thread finished; awaiting finish of 5 more threads\n",
      "2020-03-07 01:52:21,849 : INFO : worker thread finished; awaiting finish of 4 more threads\n",
      "2020-03-07 01:52:21,877 : INFO : worker thread finished; awaiting finish of 3 more threads\n",
      "2020-03-07 01:52:21,882 : INFO : worker thread finished; awaiting finish of 2 more threads\n",
      "2020-03-07 01:52:21,891 : INFO : worker thread finished; awaiting finish of 1 more threads\n",
      "2020-03-07 01:52:21,897 : INFO : worker thread finished; awaiting finish of 0 more threads\n",
      "2020-03-07 01:52:21,899 : INFO : EPOCH - 7 : training on 714401 raw words (574081 effective words) took 1.8s, 317858 effective words/s\n",
      "2020-03-07 01:52:22,934 : INFO : EPOCH 8 - PROGRESS: at 54.62% examples, 311234 words/s, in_qsize 16, out_qsize 0\n",
      "2020-03-07 01:52:23,323 : INFO : worker thread finished; awaiting finish of 7 more threads\n",
      "2020-03-07 01:52:23,346 : INFO : worker thread finished; awaiting finish of 6 more threads\n",
      "2020-03-07 01:52:23,358 : INFO : worker thread finished; awaiting finish of 5 more threads\n",
      "2020-03-07 01:52:23,367 : INFO : worker thread finished; awaiting finish of 4 more threads\n",
      "2020-03-07 01:52:23,373 : INFO : worker thread finished; awaiting finish of 3 more threads\n",
      "2020-03-07 01:52:23,378 : INFO : worker thread finished; awaiting finish of 2 more threads\n",
      "2020-03-07 01:52:23,383 : INFO : worker thread finished; awaiting finish of 1 more threads\n",
      "2020-03-07 01:52:23,393 : INFO : worker thread finished; awaiting finish of 0 more threads\n",
      "2020-03-07 01:52:23,396 : INFO : EPOCH - 8 : training on 714401 raw words (573692 effective words) took 1.5s, 390991 effective words/s\n",
      "2020-03-07 01:52:24,545 : INFO : EPOCH 9 - PROGRESS: at 70.01% examples, 358881 words/s, in_qsize 16, out_qsize 0\n",
      "2020-03-07 01:52:24,787 : INFO : worker thread finished; awaiting finish of 7 more threads\n",
      "2020-03-07 01:52:24,797 : INFO : worker thread finished; awaiting finish of 6 more threads\n"
     ]
    },
    {
     "name": "stderr",
     "output_type": "stream",
     "text": [
      "2020-03-07 01:52:24,799 : INFO : worker thread finished; awaiting finish of 5 more threads\n",
      "2020-03-07 01:52:24,810 : INFO : worker thread finished; awaiting finish of 4 more threads\n",
      "2020-03-07 01:52:24,843 : INFO : worker thread finished; awaiting finish of 3 more threads\n",
      "2020-03-07 01:52:24,857 : INFO : worker thread finished; awaiting finish of 2 more threads\n",
      "2020-03-07 01:52:24,861 : INFO : worker thread finished; awaiting finish of 1 more threads\n",
      "2020-03-07 01:52:24,864 : INFO : worker thread finished; awaiting finish of 0 more threads\n",
      "2020-03-07 01:52:24,866 : INFO : EPOCH - 9 : training on 714401 raw words (574080 effective words) took 1.4s, 398561 effective words/s\n",
      "2020-03-07 01:52:25,898 : INFO : EPOCH 10 - PROGRESS: at 65.86% examples, 373368 words/s, in_qsize 14, out_qsize 1\n",
      "2020-03-07 01:52:26,132 : INFO : worker thread finished; awaiting finish of 7 more threads\n",
      "2020-03-07 01:52:26,174 : INFO : worker thread finished; awaiting finish of 6 more threads\n",
      "2020-03-07 01:52:26,178 : INFO : worker thread finished; awaiting finish of 5 more threads\n",
      "2020-03-07 01:52:26,181 : INFO : worker thread finished; awaiting finish of 4 more threads\n",
      "2020-03-07 01:52:26,200 : INFO : worker thread finished; awaiting finish of 3 more threads\n",
      "2020-03-07 01:52:26,208 : INFO : worker thread finished; awaiting finish of 2 more threads\n",
      "2020-03-07 01:52:26,222 : INFO : worker thread finished; awaiting finish of 1 more threads\n",
      "2020-03-07 01:52:26,224 : INFO : worker thread finished; awaiting finish of 0 more threads\n",
      "2020-03-07 01:52:26,227 : INFO : EPOCH - 10 : training on 714401 raw words (573762 effective words) took 1.3s, 428715 effective words/s\n",
      "2020-03-07 01:52:27,259 : INFO : EPOCH 11 - PROGRESS: at 68.69% examples, 391732 words/s, in_qsize 14, out_qsize 1\n",
      "2020-03-07 01:52:27,578 : INFO : worker thread finished; awaiting finish of 7 more threads\n",
      "2020-03-07 01:52:27,638 : INFO : worker thread finished; awaiting finish of 6 more threads\n",
      "2020-03-07 01:52:27,676 : INFO : worker thread finished; awaiting finish of 5 more threads\n",
      "2020-03-07 01:52:27,685 : INFO : worker thread finished; awaiting finish of 4 more threads\n",
      "2020-03-07 01:52:27,698 : INFO : worker thread finished; awaiting finish of 3 more threads\n",
      "2020-03-07 01:52:27,707 : INFO : worker thread finished; awaiting finish of 2 more threads\n",
      "2020-03-07 01:52:27,721 : INFO : worker thread finished; awaiting finish of 1 more threads\n",
      "2020-03-07 01:52:27,734 : INFO : worker thread finished; awaiting finish of 0 more threads\n",
      "2020-03-07 01:52:27,736 : INFO : EPOCH - 11 : training on 714401 raw words (573926 effective words) took 1.5s, 387643 effective words/s\n",
      "2020-03-07 01:52:28,775 : INFO : EPOCH 12 - PROGRESS: at 56.06% examples, 315183 words/s, in_qsize 16, out_qsize 0\n",
      "2020-03-07 01:52:29,220 : INFO : worker thread finished; awaiting finish of 7 more threads\n",
      "2020-03-07 01:52:29,228 : INFO : worker thread finished; awaiting finish of 6 more threads\n",
      "2020-03-07 01:52:29,231 : INFO : worker thread finished; awaiting finish of 5 more threads\n",
      "2020-03-07 01:52:29,265 : INFO : worker thread finished; awaiting finish of 4 more threads\n",
      "2020-03-07 01:52:29,285 : INFO : worker thread finished; awaiting finish of 3 more threads\n",
      "2020-03-07 01:52:29,296 : INFO : worker thread finished; awaiting finish of 2 more threads\n",
      "2020-03-07 01:52:29,302 : INFO : worker thread finished; awaiting finish of 1 more threads\n",
      "2020-03-07 01:52:29,307 : INFO : worker thread finished; awaiting finish of 0 more threads\n",
      "2020-03-07 01:52:29,310 : INFO : EPOCH - 12 : training on 714401 raw words (573949 effective words) took 1.6s, 369490 effective words/s\n",
      "2020-03-07 01:52:30,397 : INFO : EPOCH 13 - PROGRESS: at 67.26% examples, 362300 words/s, in_qsize 10, out_qsize 5\n",
      "2020-03-07 01:52:30,708 : INFO : worker thread finished; awaiting finish of 7 more threads\n",
      "2020-03-07 01:52:30,719 : INFO : worker thread finished; awaiting finish of 6 more threads\n",
      "2020-03-07 01:52:30,722 : INFO : worker thread finished; awaiting finish of 5 more threads\n",
      "2020-03-07 01:52:30,727 : INFO : worker thread finished; awaiting finish of 4 more threads\n",
      "2020-03-07 01:52:30,746 : INFO : worker thread finished; awaiting finish of 3 more threads\n",
      "2020-03-07 01:52:30,762 : INFO : worker thread finished; awaiting finish of 2 more threads\n",
      "2020-03-07 01:52:30,794 : INFO : worker thread finished; awaiting finish of 1 more threads\n",
      "2020-03-07 01:52:30,801 : INFO : worker thread finished; awaiting finish of 0 more threads\n",
      "2020-03-07 01:52:30,804 : INFO : EPOCH - 13 : training on 714401 raw words (573582 effective words) took 1.5s, 390277 effective words/s\n",
      "2020-03-07 01:52:31,882 : INFO : EPOCH 14 - PROGRESS: at 65.80% examples, 359825 words/s, in_qsize 13, out_qsize 2\n",
      "2020-03-07 01:52:32,132 : INFO : worker thread finished; awaiting finish of 7 more threads\n",
      "2020-03-07 01:52:32,152 : INFO : worker thread finished; awaiting finish of 6 more threads\n",
      "2020-03-07 01:52:32,160 : INFO : worker thread finished; awaiting finish of 5 more threads\n",
      "2020-03-07 01:52:32,215 : INFO : worker thread finished; awaiting finish of 4 more threads\n",
      "2020-03-07 01:52:32,216 : INFO : worker thread finished; awaiting finish of 3 more threads\n",
      "2020-03-07 01:52:32,217 : INFO : worker thread finished; awaiting finish of 2 more threads\n",
      "2020-03-07 01:52:32,219 : INFO : worker thread finished; awaiting finish of 1 more threads\n",
      "2020-03-07 01:52:32,223 : INFO : worker thread finished; awaiting finish of 0 more threads\n",
      "2020-03-07 01:52:32,227 : INFO : EPOCH - 14 : training on 714401 raw words (574232 effective words) took 1.4s, 412053 effective words/s\n",
      "2020-03-07 01:52:33,275 : INFO : EPOCH 15 - PROGRESS: at 65.80% examples, 367585 words/s, in_qsize 13, out_qsize 3\n",
      "2020-03-07 01:52:33,525 : INFO : worker thread finished; awaiting finish of 7 more threads\n",
      "2020-03-07 01:52:33,548 : INFO : worker thread finished; awaiting finish of 6 more threads\n",
      "2020-03-07 01:52:33,552 : INFO : worker thread finished; awaiting finish of 5 more threads\n",
      "2020-03-07 01:52:33,580 : INFO : worker thread finished; awaiting finish of 4 more threads\n",
      "2020-03-07 01:52:33,584 : INFO : worker thread finished; awaiting finish of 3 more threads\n",
      "2020-03-07 01:52:33,598 : INFO : worker thread finished; awaiting finish of 2 more threads\n",
      "2020-03-07 01:52:33,608 : INFO : worker thread finished; awaiting finish of 1 more threads\n",
      "2020-03-07 01:52:33,613 : INFO : worker thread finished; awaiting finish of 0 more threads\n",
      "2020-03-07 01:52:33,614 : INFO : EPOCH - 15 : training on 714401 raw words (574084 effective words) took 1.4s, 420179 effective words/s\n",
      "2020-03-07 01:52:34,646 : INFO : EPOCH 16 - PROGRESS: at 64.42% examples, 366452 words/s, in_qsize 15, out_qsize 0\n",
      "2020-03-07 01:52:34,987 : INFO : worker thread finished; awaiting finish of 7 more threads\n",
      "2020-03-07 01:52:35,063 : INFO : worker thread finished; awaiting finish of 6 more threads\n",
      "2020-03-07 01:52:35,066 : INFO : worker thread finished; awaiting finish of 5 more threads\n",
      "2020-03-07 01:52:35,076 : INFO : worker thread finished; awaiting finish of 4 more threads\n",
      "2020-03-07 01:52:35,116 : INFO : worker thread finished; awaiting finish of 3 more threads\n",
      "2020-03-07 01:52:35,127 : INFO : worker thread finished; awaiting finish of 2 more threads\n",
      "2020-03-07 01:52:35,130 : INFO : worker thread finished; awaiting finish of 1 more threads\n",
      "2020-03-07 01:52:35,141 : INFO : worker thread finished; awaiting finish of 0 more threads\n",
      "2020-03-07 01:52:35,145 : INFO : EPOCH - 16 : training on 714401 raw words (573803 effective words) took 1.5s, 381030 effective words/s\n",
      "2020-03-07 01:52:36,189 : INFO : EPOCH 17 - PROGRESS: at 68.65% examples, 385982 words/s, in_qsize 16, out_qsize 0\n",
      "2020-03-07 01:52:36,459 : INFO : worker thread finished; awaiting finish of 7 more threads\n",
      "2020-03-07 01:52:36,481 : INFO : worker thread finished; awaiting finish of 6 more threads\n",
      "2020-03-07 01:52:36,487 : INFO : worker thread finished; awaiting finish of 5 more threads\n",
      "2020-03-07 01:52:36,502 : INFO : worker thread finished; awaiting finish of 4 more threads\n",
      "2020-03-07 01:52:36,516 : INFO : worker thread finished; awaiting finish of 3 more threads\n",
      "2020-03-07 01:52:36,521 : INFO : worker thread finished; awaiting finish of 2 more threads\n"
     ]
    },
    {
     "name": "stderr",
     "output_type": "stream",
     "text": [
      "2020-03-07 01:52:36,540 : INFO : worker thread finished; awaiting finish of 1 more threads\n",
      "2020-03-07 01:52:36,546 : INFO : worker thread finished; awaiting finish of 0 more threads\n",
      "2020-03-07 01:52:36,548 : INFO : EPOCH - 17 : training on 714401 raw words (574186 effective words) took 1.4s, 416559 effective words/s\n",
      "2020-03-07 01:52:37,592 : INFO : EPOCH 18 - PROGRESS: at 71.43% examples, 403873 words/s, in_qsize 16, out_qsize 0\n",
      "2020-03-07 01:52:37,884 : INFO : worker thread finished; awaiting finish of 7 more threads\n",
      "2020-03-07 01:52:37,888 : INFO : worker thread finished; awaiting finish of 6 more threads\n",
      "2020-03-07 01:52:37,895 : INFO : worker thread finished; awaiting finish of 5 more threads\n",
      "2020-03-07 01:52:37,903 : INFO : worker thread finished; awaiting finish of 4 more threads\n",
      "2020-03-07 01:52:37,907 : INFO : worker thread finished; awaiting finish of 3 more threads\n",
      "2020-03-07 01:52:37,924 : INFO : worker thread finished; awaiting finish of 2 more threads\n",
      "2020-03-07 01:52:37,928 : INFO : worker thread finished; awaiting finish of 1 more threads\n",
      "2020-03-07 01:52:37,944 : INFO : worker thread finished; awaiting finish of 0 more threads\n",
      "2020-03-07 01:52:37,946 : INFO : EPOCH - 18 : training on 714401 raw words (574094 effective words) took 1.4s, 419870 effective words/s\n",
      "2020-03-07 01:52:39,094 : INFO : EPOCH 19 - PROGRESS: at 68.65% examples, 349071 words/s, in_qsize 16, out_qsize 0\n",
      "2020-03-07 01:52:39,321 : INFO : worker thread finished; awaiting finish of 7 more threads\n",
      "2020-03-07 01:52:39,395 : INFO : worker thread finished; awaiting finish of 6 more threads\n",
      "2020-03-07 01:52:39,398 : INFO : worker thread finished; awaiting finish of 5 more threads\n",
      "2020-03-07 01:52:39,410 : INFO : worker thread finished; awaiting finish of 4 more threads\n",
      "2020-03-07 01:52:39,439 : INFO : worker thread finished; awaiting finish of 3 more threads\n",
      "2020-03-07 01:52:39,450 : INFO : worker thread finished; awaiting finish of 2 more threads\n",
      "2020-03-07 01:52:39,465 : INFO : worker thread finished; awaiting finish of 1 more threads\n",
      "2020-03-07 01:52:39,469 : INFO : worker thread finished; awaiting finish of 0 more threads\n",
      "2020-03-07 01:52:39,472 : INFO : EPOCH - 19 : training on 714401 raw words (574049 effective words) took 1.5s, 381645 effective words/s\n",
      "2020-03-07 01:52:40,505 : INFO : EPOCH 20 - PROGRESS: at 56.04% examples, 316731 words/s, in_qsize 15, out_qsize 0\n",
      "2020-03-07 01:52:41,069 : INFO : worker thread finished; awaiting finish of 7 more threads\n",
      "2020-03-07 01:52:41,077 : INFO : worker thread finished; awaiting finish of 6 more threads\n",
      "2020-03-07 01:52:41,080 : INFO : worker thread finished; awaiting finish of 5 more threads\n",
      "2020-03-07 01:52:41,087 : INFO : worker thread finished; awaiting finish of 4 more threads\n",
      "2020-03-07 01:52:41,093 : INFO : worker thread finished; awaiting finish of 3 more threads\n",
      "2020-03-07 01:52:41,096 : INFO : worker thread finished; awaiting finish of 2 more threads\n",
      "2020-03-07 01:52:41,118 : INFO : worker thread finished; awaiting finish of 1 more threads\n",
      "2020-03-07 01:52:41,130 : INFO : worker thread finished; awaiting finish of 0 more threads\n",
      "2020-03-07 01:52:41,133 : INFO : EPOCH - 20 : training on 714401 raw words (574143 effective words) took 1.6s, 349742 effective words/s\n",
      "2020-03-07 01:52:42,199 : INFO : EPOCH 21 - PROGRESS: at 70.05% examples, 383636 words/s, in_qsize 15, out_qsize 0\n",
      "2020-03-07 01:52:42,529 : INFO : worker thread finished; awaiting finish of 7 more threads\n",
      "2020-03-07 01:52:42,548 : INFO : worker thread finished; awaiting finish of 6 more threads\n",
      "2020-03-07 01:52:42,552 : INFO : worker thread finished; awaiting finish of 5 more threads\n",
      "2020-03-07 01:52:42,579 : INFO : worker thread finished; awaiting finish of 4 more threads\n",
      "2020-03-07 01:52:42,583 : INFO : worker thread finished; awaiting finish of 3 more threads\n",
      "2020-03-07 01:52:42,586 : INFO : worker thread finished; awaiting finish of 2 more threads\n",
      "2020-03-07 01:52:42,590 : INFO : worker thread finished; awaiting finish of 1 more threads\n",
      "2020-03-07 01:52:42,608 : INFO : worker thread finished; awaiting finish of 0 more threads\n",
      "2020-03-07 01:52:42,615 : INFO : EPOCH - 21 : training on 714401 raw words (573978 effective words) took 1.5s, 392523 effective words/s\n",
      "2020-03-07 01:52:43,670 : INFO : EPOCH 22 - PROGRESS: at 68.58% examples, 386322 words/s, in_qsize 16, out_qsize 0\n",
      "2020-03-07 01:52:43,912 : INFO : worker thread finished; awaiting finish of 7 more threads\n",
      "2020-03-07 01:52:43,931 : INFO : worker thread finished; awaiting finish of 6 more threads\n",
      "2020-03-07 01:52:43,936 : INFO : worker thread finished; awaiting finish of 5 more threads\n",
      "2020-03-07 01:52:43,940 : INFO : worker thread finished; awaiting finish of 4 more threads\n",
      "2020-03-07 01:52:43,944 : INFO : worker thread finished; awaiting finish of 3 more threads\n",
      "2020-03-07 01:52:43,947 : INFO : worker thread finished; awaiting finish of 2 more threads\n",
      "2020-03-07 01:52:43,962 : INFO : worker thread finished; awaiting finish of 1 more threads\n",
      "2020-03-07 01:52:43,971 : INFO : worker thread finished; awaiting finish of 0 more threads\n",
      "2020-03-07 01:52:43,974 : INFO : EPOCH - 22 : training on 714401 raw words (573960 effective words) took 1.3s, 433904 effective words/s\n",
      "2020-03-07 01:52:45,004 : INFO : EPOCH 23 - PROGRESS: at 74.23% examples, 420922 words/s, in_qsize 15, out_qsize 0\n",
      "2020-03-07 01:52:45,208 : INFO : worker thread finished; awaiting finish of 7 more threads\n",
      "2020-03-07 01:52:45,224 : INFO : worker thread finished; awaiting finish of 6 more threads\n",
      "2020-03-07 01:52:45,243 : INFO : worker thread finished; awaiting finish of 5 more threads\n",
      "2020-03-07 01:52:45,260 : INFO : worker thread finished; awaiting finish of 4 more threads\n",
      "2020-03-07 01:52:45,267 : INFO : worker thread finished; awaiting finish of 3 more threads\n",
      "2020-03-07 01:52:45,276 : INFO : worker thread finished; awaiting finish of 2 more threads\n",
      "2020-03-07 01:52:45,282 : INFO : worker thread finished; awaiting finish of 1 more threads\n",
      "2020-03-07 01:52:45,296 : INFO : worker thread finished; awaiting finish of 0 more threads\n",
      "2020-03-07 01:52:45,299 : INFO : EPOCH - 23 : training on 714401 raw words (573803 effective words) took 1.3s, 439801 effective words/s\n",
      "2020-03-07 01:52:46,343 : INFO : EPOCH 24 - PROGRESS: at 72.80% examples, 408666 words/s, in_qsize 15, out_qsize 0\n",
      "2020-03-07 01:52:46,478 : INFO : worker thread finished; awaiting finish of 7 more threads\n",
      "2020-03-07 01:52:46,548 : INFO : worker thread finished; awaiting finish of 6 more threads\n",
      "2020-03-07 01:52:46,563 : INFO : worker thread finished; awaiting finish of 5 more threads\n",
      "2020-03-07 01:52:46,568 : INFO : worker thread finished; awaiting finish of 4 more threads\n",
      "2020-03-07 01:52:46,580 : INFO : worker thread finished; awaiting finish of 3 more threads\n",
      "2020-03-07 01:52:46,593 : INFO : worker thread finished; awaiting finish of 2 more threads\n",
      "2020-03-07 01:52:46,602 : INFO : worker thread finished; awaiting finish of 1 more threads\n",
      "2020-03-07 01:52:46,615 : INFO : worker thread finished; awaiting finish of 0 more threads\n",
      "2020-03-07 01:52:46,617 : INFO : EPOCH - 24 : training on 714401 raw words (573932 effective words) took 1.3s, 443306 effective words/s\n",
      "2020-03-07 01:52:47,677 : INFO : EPOCH 25 - PROGRESS: at 68.63% examples, 381002 words/s, in_qsize 13, out_qsize 2\n",
      "2020-03-07 01:52:47,866 : INFO : worker thread finished; awaiting finish of 7 more threads\n",
      "2020-03-07 01:52:47,925 : INFO : worker thread finished; awaiting finish of 6 more threads\n",
      "2020-03-07 01:52:47,954 : INFO : worker thread finished; awaiting finish of 5 more threads\n",
      "2020-03-07 01:52:47,964 : INFO : worker thread finished; awaiting finish of 4 more threads\n",
      "2020-03-07 01:52:47,981 : INFO : worker thread finished; awaiting finish of 3 more threads\n",
      "2020-03-07 01:52:47,985 : INFO : worker thread finished; awaiting finish of 2 more threads\n",
      "2020-03-07 01:52:47,988 : INFO : worker thread finished; awaiting finish of 1 more threads\n",
      "2020-03-07 01:52:47,990 : INFO : worker thread finished; awaiting finish of 0 more threads\n",
      "2020-03-07 01:52:47,991 : INFO : EPOCH - 25 : training on 714401 raw words (573966 effective words) took 1.3s, 426305 effective words/s\n",
      "2020-03-07 01:52:49,080 : INFO : EPOCH 26 - PROGRESS: at 58.83% examples, 314627 words/s, in_qsize 12, out_qsize 3\n"
     ]
    },
    {
     "name": "stderr",
     "output_type": "stream",
     "text": [
      "2020-03-07 01:52:49,416 : INFO : worker thread finished; awaiting finish of 7 more threads\n",
      "2020-03-07 01:52:49,434 : INFO : worker thread finished; awaiting finish of 6 more threads\n",
      "2020-03-07 01:52:49,437 : INFO : worker thread finished; awaiting finish of 5 more threads\n",
      "2020-03-07 01:52:49,456 : INFO : worker thread finished; awaiting finish of 4 more threads\n",
      "2020-03-07 01:52:49,468 : INFO : worker thread finished; awaiting finish of 3 more threads\n",
      "2020-03-07 01:52:49,473 : INFO : worker thread finished; awaiting finish of 2 more threads\n",
      "2020-03-07 01:52:49,485 : INFO : worker thread finished; awaiting finish of 1 more threads\n",
      "2020-03-07 01:52:49,494 : INFO : worker thread finished; awaiting finish of 0 more threads\n",
      "2020-03-07 01:52:49,496 : INFO : EPOCH - 26 : training on 714401 raw words (574061 effective words) took 1.5s, 385612 effective words/s\n",
      "2020-03-07 01:52:50,557 : INFO : EPOCH 27 - PROGRESS: at 64.45% examples, 358477 words/s, in_qsize 13, out_qsize 2\n",
      "2020-03-07 01:52:50,835 : INFO : worker thread finished; awaiting finish of 7 more threads\n",
      "2020-03-07 01:52:50,867 : INFO : worker thread finished; awaiting finish of 6 more threads\n",
      "2020-03-07 01:52:50,873 : INFO : worker thread finished; awaiting finish of 5 more threads\n",
      "2020-03-07 01:52:50,886 : INFO : worker thread finished; awaiting finish of 4 more threads\n",
      "2020-03-07 01:52:50,915 : INFO : worker thread finished; awaiting finish of 3 more threads\n",
      "2020-03-07 01:52:50,922 : INFO : worker thread finished; awaiting finish of 2 more threads\n",
      "2020-03-07 01:52:50,930 : INFO : worker thread finished; awaiting finish of 1 more threads\n",
      "2020-03-07 01:52:50,937 : INFO : worker thread finished; awaiting finish of 0 more threads\n",
      "2020-03-07 01:52:50,940 : INFO : EPOCH - 27 : training on 714401 raw words (573840 effective words) took 1.4s, 405710 effective words/s\n",
      "2020-03-07 01:52:52,019 : INFO : EPOCH 28 - PROGRESS: at 68.63% examples, 374858 words/s, in_qsize 15, out_qsize 0\n",
      "2020-03-07 01:52:52,278 : INFO : worker thread finished; awaiting finish of 7 more threads\n",
      "2020-03-07 01:52:52,307 : INFO : worker thread finished; awaiting finish of 6 more threads\n",
      "2020-03-07 01:52:52,363 : INFO : worker thread finished; awaiting finish of 5 more threads\n",
      "2020-03-07 01:52:52,371 : INFO : worker thread finished; awaiting finish of 4 more threads\n",
      "2020-03-07 01:52:52,379 : INFO : worker thread finished; awaiting finish of 3 more threads\n",
      "2020-03-07 01:52:52,382 : INFO : worker thread finished; awaiting finish of 2 more threads\n",
      "2020-03-07 01:52:52,411 : INFO : worker thread finished; awaiting finish of 1 more threads\n",
      "2020-03-07 01:52:52,419 : INFO : worker thread finished; awaiting finish of 0 more threads\n",
      "2020-03-07 01:52:52,424 : INFO : EPOCH - 28 : training on 714401 raw words (574303 effective words) took 1.5s, 394760 effective words/s\n",
      "2020-03-07 01:52:53,473 : INFO : EPOCH 29 - PROGRESS: at 63.02% examples, 352947 words/s, in_qsize 16, out_qsize 0\n",
      "2020-03-07 01:52:53,812 : INFO : worker thread finished; awaiting finish of 7 more threads\n",
      "2020-03-07 01:52:53,876 : INFO : worker thread finished; awaiting finish of 6 more threads\n",
      "2020-03-07 01:52:53,889 : INFO : worker thread finished; awaiting finish of 5 more threads\n",
      "2020-03-07 01:52:53,893 : INFO : worker thread finished; awaiting finish of 4 more threads\n",
      "2020-03-07 01:52:53,909 : INFO : worker thread finished; awaiting finish of 3 more threads\n",
      "2020-03-07 01:52:53,913 : INFO : worker thread finished; awaiting finish of 2 more threads\n",
      "2020-03-07 01:52:53,946 : INFO : worker thread finished; awaiting finish of 1 more threads\n",
      "2020-03-07 01:52:53,948 : INFO : worker thread finished; awaiting finish of 0 more threads\n",
      "2020-03-07 01:52:53,950 : INFO : EPOCH - 29 : training on 714401 raw words (573622 effective words) took 1.5s, 382373 effective words/s\n",
      "2020-03-07 01:52:55,023 : INFO : EPOCH 30 - PROGRESS: at 64.42% examples, 355961 words/s, in_qsize 15, out_qsize 0\n",
      "2020-03-07 01:52:55,378 : INFO : worker thread finished; awaiting finish of 7 more threads\n",
      "2020-03-07 01:52:55,385 : INFO : worker thread finished; awaiting finish of 6 more threads\n",
      "2020-03-07 01:52:55,392 : INFO : worker thread finished; awaiting finish of 5 more threads\n",
      "2020-03-07 01:52:55,410 : INFO : worker thread finished; awaiting finish of 4 more threads\n",
      "2020-03-07 01:52:55,413 : INFO : worker thread finished; awaiting finish of 3 more threads\n",
      "2020-03-07 01:52:55,424 : INFO : worker thread finished; awaiting finish of 2 more threads\n",
      "2020-03-07 01:52:55,426 : INFO : worker thread finished; awaiting finish of 1 more threads\n",
      "2020-03-07 01:52:55,430 : INFO : worker thread finished; awaiting finish of 0 more threads\n",
      "2020-03-07 01:52:55,433 : INFO : EPOCH - 30 : training on 714401 raw words (573964 effective words) took 1.4s, 396454 effective words/s\n",
      "2020-03-07 01:52:56,497 : INFO : EPOCH 31 - PROGRESS: at 61.61% examples, 340007 words/s, in_qsize 14, out_qsize 1\n",
      "2020-03-07 01:52:56,871 : INFO : worker thread finished; awaiting finish of 7 more threads\n",
      "2020-03-07 01:52:56,881 : INFO : worker thread finished; awaiting finish of 6 more threads\n",
      "2020-03-07 01:52:56,889 : INFO : worker thread finished; awaiting finish of 5 more threads\n",
      "2020-03-07 01:52:56,910 : INFO : worker thread finished; awaiting finish of 4 more threads\n",
      "2020-03-07 01:52:56,913 : INFO : worker thread finished; awaiting finish of 3 more threads\n",
      "2020-03-07 01:52:56,916 : INFO : worker thread finished; awaiting finish of 2 more threads\n",
      "2020-03-07 01:52:56,932 : INFO : worker thread finished; awaiting finish of 1 more threads\n",
      "2020-03-07 01:52:56,936 : INFO : worker thread finished; awaiting finish of 0 more threads\n",
      "2020-03-07 01:52:56,939 : INFO : EPOCH - 31 : training on 714401 raw words (573854 effective words) took 1.5s, 387525 effective words/s\n",
      "2020-03-07 01:52:57,990 : INFO : EPOCH 32 - PROGRESS: at 61.61% examples, 342554 words/s, in_qsize 13, out_qsize 2\n",
      "2020-03-07 01:52:58,352 : INFO : worker thread finished; awaiting finish of 7 more threads\n",
      "2020-03-07 01:52:58,357 : INFO : worker thread finished; awaiting finish of 6 more threads\n",
      "2020-03-07 01:52:58,359 : INFO : worker thread finished; awaiting finish of 5 more threads\n",
      "2020-03-07 01:52:58,394 : INFO : worker thread finished; awaiting finish of 4 more threads\n",
      "2020-03-07 01:52:58,416 : INFO : worker thread finished; awaiting finish of 3 more threads\n",
      "2020-03-07 01:52:58,419 : INFO : worker thread finished; awaiting finish of 2 more threads\n",
      "2020-03-07 01:52:58,436 : INFO : worker thread finished; awaiting finish of 1 more threads\n",
      "2020-03-07 01:52:58,440 : INFO : worker thread finished; awaiting finish of 0 more threads\n",
      "2020-03-07 01:52:58,442 : INFO : EPOCH - 32 : training on 714401 raw words (574061 effective words) took 1.5s, 387028 effective words/s\n",
      "2020-03-07 01:52:58,444 : INFO : training on a 22860832 raw words (18367556 effective words) took 48.0s, 382550 effective words/s\n"
     ]
    },
    {
     "name": "stdout",
     "output_type": "stream",
     "text": [
      "Wall time: 48 s\n"
     ]
    },
    {
     "data": {
      "text/plain": [
       "(18367556, 22860832)"
      ]
     },
     "execution_count": 151,
     "metadata": {},
     "output_type": "execute_result"
    }
   ],
   "source": [
    "%%time\n",
    "w2v_model.train(documents, total_examples=len(documents), epochs=W2V_EPOCH)"
   ]
  },
  {
   "cell_type": "code",
   "execution_count": 152,
   "metadata": {
    "_uuid": "27cc2651c74227115d8bfd8c40e5618048e05edd"
   },
   "outputs": [
    {
     "name": "stderr",
     "output_type": "stream",
     "text": [
      "c:\\users\\hp\\appdata\\local\\programs\\python\\python36\\lib\\site-packages\\ipykernel_launcher.py:1: DeprecationWarning: Call to deprecated `most_similar` (Method will be removed in 4.0.0, use self.wv.most_similar() instead).\n",
      "  \"\"\"Entry point for launching an IPython kernel.\n",
      "2020-03-07 01:53:03,968 : INFO : precomputing L2-norms of word weight vectors\n"
     ]
    },
    {
     "data": {
      "text/plain": [
       "[('luv', 0.4320935904979706),\n",
       " ('awsome', 0.35048842430114746),\n",
       " ('loves', 0.34153085947036743),\n",
       " ('miley', 0.3317371904850006),\n",
       " ('cyrus', 0.32450926303863525),\n",
       " ('catchy', 0.3244353234767914),\n",
       " ('loveee', 0.32427850365638733),\n",
       " ('kisses', 0.30820196866989136),\n",
       " ('nick', 0.29387837648391724),\n",
       " ('sing', 0.29025769233703613)]"
      ]
     },
     "execution_count": 152,
     "metadata": {},
     "output_type": "execute_result"
    }
   ],
   "source": [
    "w2v_model.most_similar(\"love\")"
   ]
  },
  {
   "cell_type": "markdown",
   "metadata": {
    "_uuid": "e13563644468037258598637b49373ca96b9b879"
   },
   "source": [
    "### Tokenize Text"
   ]
  },
  {
   "cell_type": "code",
   "execution_count": 153,
   "metadata": {
    "_uuid": "6852bc709a7cd20173cbeeb218505078f8f37c57"
   },
   "outputs": [
    {
     "name": "stdout",
     "output_type": "stream",
     "text": [
      "Total words 55048\n",
      "Wall time: 2.45 s\n"
     ]
    }
   ],
   "source": [
    "%%time\n",
    "tokenizer = Tokenizer()\n",
    "tokenizer.fit_on_texts(df_train.text)\n",
    "\n",
    "vocab_size = len(tokenizer.word_index) + 1\n",
    "print(\"Total words\", vocab_size)"
   ]
  },
  {
   "cell_type": "code",
   "execution_count": 154,
   "metadata": {
    "_uuid": "45de439df3015030c71f84c2d170346936a1d68f"
   },
   "outputs": [
    {
     "name": "stdout",
     "output_type": "stream",
     "text": [
      "Wall time: 7.34 s\n"
     ]
    }
   ],
   "source": [
    "%%time\n",
    "x_train = pad_sequences(tokenizer.texts_to_sequences(df_train.text), maxlen=SEQUENCE_LENGTH)\n",
    "#x_test = pad_sequences(tokenizer.texts_to_sequences(df_test.text), maxlen=SEQUENCE_LENGTH)"
   ]
  },
  {
   "cell_type": "markdown",
   "metadata": {
    "_uuid": "03b35903fc6260e190d6928d240ef7432de117fc"
   },
   "source": [
    "### Label Encoder "
   ]
  },
  {
   "cell_type": "code",
   "execution_count": 155,
   "metadata": {
    "_uuid": "33676e0efa39e97d89bd650b8b4eae933a22fbf0"
   },
   "outputs": [
    {
     "data": {
      "text/plain": [
       "[4, 0, 'NEUTRAL']"
      ]
     },
     "execution_count": 155,
     "metadata": {},
     "output_type": "execute_result"
    }
   ],
   "source": [
    "labels = df_train.target.unique().tolist()\n",
    "labels.append(NEUTRAL)\n",
    "labels"
   ]
  },
  {
   "cell_type": "code",
   "execution_count": 156,
   "metadata": {
    "_uuid": "04239a9bef76e7922fd86098a5601dfde8ee4665"
   },
   "outputs": [
    {
     "name": "stdout",
     "output_type": "stream",
     "text": [
      "y_train (100000, 1)\n"
     ]
    }
   ],
   "source": [
    "encoder = LabelEncoder()\n",
    "encoder.fit(df_train.target.tolist())\n",
    "\n",
    "y_train = encoder.transform(df_train.target.tolist())\n",
    "#y_test = encoder.transform(df_test.target.tolist())\n",
    "\n",
    "y_train = y_train.reshape(-1,1)\n",
    "#y_test = y_test.reshape(-1,1)\n",
    "\n",
    "print(\"y_train\",y_train.shape)\n",
    "#print(\"y_test\",y_test.shape)"
   ]
  },
  {
   "cell_type": "code",
   "execution_count": 158,
   "metadata": {
    "_uuid": "04299c886911ca135583ab64878f213939a2990c"
   },
   "outputs": [
    {
     "name": "stdout",
     "output_type": "stream",
     "text": [
      "x_train (100000, 300)\n",
      "y_train (100000, 1)\n",
      "\n"
     ]
    }
   ],
   "source": [
    "print(\"x_train\", x_train.shape)\n",
    "print(\"y_train\", y_train.shape)\n",
    "print()\n",
    "# print(\"x_test\", x_test.shape)\n",
    "# print(\"y_test\", y_test.shape)"
   ]
  },
  {
   "cell_type": "code",
   "execution_count": 159,
   "metadata": {
    "_uuid": "232533fb27b7be99d9b8c2f8fb22c9c6bf121a6f"
   },
   "outputs": [
    {
     "data": {
      "text/plain": [
       "array([[1],\n",
       "       [1],\n",
       "       [1],\n",
       "       [1],\n",
       "       [0],\n",
       "       [1],\n",
       "       [0],\n",
       "       [0],\n",
       "       [1],\n",
       "       [1]], dtype=int64)"
      ]
     },
     "execution_count": 159,
     "metadata": {},
     "output_type": "execute_result"
    }
   ],
   "source": [
    "y_train[:10]"
   ]
  },
  {
   "cell_type": "markdown",
   "metadata": {
    "_uuid": "233c0ea94055a03e2e7df3e2a13d036ec963484f"
   },
   "source": [
    "### Embedding layer"
   ]
  },
  {
   "cell_type": "code",
   "execution_count": 160,
   "metadata": {
    "_uuid": "9ab488374b59e3f30f8b1ea92767d853c4846bac"
   },
   "outputs": [
    {
     "name": "stdout",
     "output_type": "stream",
     "text": [
      "(55048, 300)\n"
     ]
    }
   ],
   "source": [
    "embedding_matrix = np.zeros((vocab_size, W2V_SIZE))\n",
    "for word, i in tokenizer.word_index.items():\n",
    "  if word in w2v_model.wv:\n",
    "    embedding_matrix[i] = w2v_model.wv[word]\n",
    "print(embedding_matrix.shape)"
   ]
  },
  {
   "cell_type": "code",
   "execution_count": 161,
   "metadata": {
    "_uuid": "833279d91e4286065968237fb5f2a0c2dd4d246c"
   },
   "outputs": [],
   "source": [
    "embedding_layer = Embedding(vocab_size, W2V_SIZE, weights=[embedding_matrix], input_length=SEQUENCE_LENGTH, trainable=False)"
   ]
  },
  {
   "cell_type": "markdown",
   "metadata": {
    "_uuid": "b299ef78f94c2085942c993a2d58753a7476305a"
   },
   "source": [
    "### Build Model"
   ]
  },
  {
   "cell_type": "code",
   "execution_count": 162,
   "metadata": {
    "_uuid": "e775ef4f1b74e6412457181383c39f2df554ef3f"
   },
   "outputs": [
    {
     "name": "stdout",
     "output_type": "stream",
     "text": [
      "_________________________________________________________________\n",
      "Layer (type)                 Output Shape              Param #   \n",
      "=================================================================\n",
      "embedding_3 (Embedding)      (None, 300, 300)          16514400  \n",
      "_________________________________________________________________\n",
      "dropout_3 (Dropout)          (None, 300, 300)          0         \n",
      "_________________________________________________________________\n",
      "lstm_3 (LSTM)                (None, 100)               160400    \n",
      "_________________________________________________________________\n",
      "dense_3 (Dense)              (None, 1)                 101       \n",
      "=================================================================\n",
      "Total params: 16,674,901\n",
      "Trainable params: 160,501\n",
      "Non-trainable params: 16,514,400\n",
      "_________________________________________________________________\n"
     ]
    }
   ],
   "source": [
    "model = Sequential()\n",
    "model.add(embedding_layer)\n",
    "model.add(Dropout(0.5))\n",
    "model.add(LSTM(100, dropout=0.2, recurrent_dropout=0.2))\n",
    "model.add(Dense(1, activation='sigmoid'))\n",
    "\n",
    "model.summary()"
   ]
  },
  {
   "cell_type": "markdown",
   "metadata": {
    "_uuid": "28d22eafd0c7d798dcf3d742bc92fb8577939e6c"
   },
   "source": [
    "### Compile model"
   ]
  },
  {
   "cell_type": "code",
   "execution_count": 163,
   "metadata": {
    "_uuid": "1331e08d590bb2aa2033706c8faca217afc0f1c3"
   },
   "outputs": [],
   "source": [
    "model.compile(loss='binary_crossentropy',\n",
    "              optimizer=\"adam\",\n",
    "              metrics=['accuracy'])"
   ]
  },
  {
   "cell_type": "markdown",
   "metadata": {
    "_uuid": "c7733127cb8b380e0c807268903bf4d03ef92542"
   },
   "source": [
    "### Callbacks"
   ]
  },
  {
   "cell_type": "code",
   "execution_count": 164,
   "metadata": {
    "_uuid": "a688df590386f5748da6fe00b01904fe6c71619e"
   },
   "outputs": [],
   "source": [
    "callbacks = [ ReduceLROnPlateau(monitor='val_loss', patience=5, cooldown=0),\n",
    "              EarlyStopping(monitor='val_acc', min_delta=1e-4, patience=5)]"
   ]
  },
  {
   "cell_type": "markdown",
   "metadata": {
    "_uuid": "8d0873633dd49179c8cae17377641b97d323ef3b"
   },
   "source": [
    "### Train"
   ]
  },
  {
   "cell_type": "code",
   "execution_count": 165,
   "metadata": {},
   "outputs": [
    {
     "name": "stdout",
     "output_type": "stream",
     "text": [
      "Train on 90000 samples, validate on 10000 samples\n",
      "Epoch 1/1\n",
      "90000/90000 [==============================] - 2586s 29ms/step - loss: 0.5749 - acc: 0.6955 - val_loss: 0.5239 - val_acc: 0.7427\n",
      "Wall time: 43min 8s\n"
     ]
    }
   ],
   "source": [
    "%%time\n",
    "history = model.fit(x_train, y_train,\n",
    "                    batch_size=BATCH_SIZE,\n",
    "                    epochs=EPOCHS,\n",
    "                    validation_split=0.1,\n",
    "                    verbose=1,\n",
    "                    callbacks=callbacks)"
   ]
  },
  {
   "cell_type": "markdown",
   "metadata": {
    "_uuid": "267258196d96796ac69a7b8c466314bcf5d6ee42"
   },
   "source": [
    "### Evaluate"
   ]
  },
  {
   "cell_type": "code",
   "execution_count": 166,
   "metadata": {
    "_uuid": "98ecd8f1b8b74594c3ea775dd68a094e92458022"
   },
   "outputs": [
    {
     "name": "stdout",
     "output_type": "stream",
     "text": [
      "20000/20000 [==============================] - 155s 8ms/step\n",
      "\n",
      "ACCURACY: 0.5602999995231629\n",
      "LOSS: 0.8156254748344421\n",
      "Wall time: 2min 35s\n"
     ]
    }
   ],
   "source": [
    "%%time\n",
    "score = model.evaluate(x_test, y_test, batch_size=BATCH_SIZE)\n",
    "print()\n",
    "print(\"ACCURACY:\",score[1])\n",
    "print(\"LOSS:\",score[0])"
   ]
  },
  {
   "cell_type": "code",
   "execution_count": 167,
   "metadata": {
    "_uuid": "40c72cd1e9d6c4fd799cbba7c813765ac4039dfc"
   },
   "outputs": [
    {
     "data": {
      "image/png": "[encoded data removed]",
      "text/plain": [
       "<Figure size 432x288 with 1 Axes>"
      ]
     },
     "metadata": {
      "needs_background": "light"
     },
     "output_type": "display_data"
    },
    {
     "data": {
      "image/png": "[encoded data removed]",
      "text/plain": [
       "<Figure size 432x288 with 1 Axes>"
      ]
     },
     "metadata": {
      "needs_background": "light"
     },
     "output_type": "display_data"
    }
   ],
   "source": [
    "acc = history.history['acc']\n",
    "val_acc = history.history['val_acc']\n",
    "loss = history.history['loss']\n",
    "val_loss = history.history['val_loss']\n",
    " \n",
    "epochs = range(len(acc))\n",
    " \n",
    "plt.plot(epochs, acc, 'b', label='Training acc')\n",
    "plt.plot(epochs, val_acc, 'r', label='Validation acc')\n",
    "plt.title('Training and validation accuracy')\n",
    "plt.legend()\n",
    " \n",
    "plt.figure()\n",
    " \n",
    "plt.plot(epochs, loss, 'b', label='Training loss')\n",
    "plt.plot(epochs, val_loss, 'r', label='Validation loss')\n",
    "plt.title('Training and validation loss')\n",
    "plt.legend()\n",
    " \n",
    "plt.show()"
   ]
  },
  {
   "cell_type": "markdown",
   "metadata": {
    "_uuid": "6bdfc0f6a6af5bebc0271d83dd7432c91001409b"
   },
   "source": [
    "### Predict"
   ]
  },
  {
   "cell_type": "code",
   "execution_count": 168,
   "metadata": {
    "_uuid": "f0b0fa3d4b1bb14b3f5e3d169a369f3ebef29ae1"
   },
   "outputs": [],
   "source": [
    "def decode_sentiment(score, include_neutral=True):\n",
    "    if include_neutral:        \n",
    "        label = NEUTRAL\n",
    "        if score <= SENTIMENT_THRESHOLDS[0]:\n",
    "            label = NEGATIVE\n",
    "        elif score >= SENTIMENT_THRESHOLDS[1]:\n",
    "            label = POSITIVE\n",
    "\n",
    "        return label\n",
    "    else:\n",
    "        return NEGATIVE if score < 0.5 else POSITIVE"
   ]
  },
  {
   "cell_type": "code",
   "execution_count": 169,
   "metadata": {
    "_uuid": "ed4086d651f2f8cbed11d3c909a8873607d29a06"
   },
   "outputs": [],
   "source": [
    "def predict(text, include_neutral=True):\n",
    "    start_at = time.time()\n",
    "    # Tokenize text\n",
    "    x_test = pad_sequences(tokenizer.texts_to_sequences([text]), maxlen=SEQUENCE_LENGTH)\n",
    "    # Predict\n",
    "    score = model.predict([x_test])[0]\n",
    "    # Decode sentiment\n",
    "    label = decode_sentiment(score, include_neutral=include_neutral)\n",
    "\n",
    "    return {\"label\": label, \"score\": float(score),\n",
    "       \"elapsed_time\": time.time()-start_at}  "
   ]
  },
  {
   "cell_type": "code",
   "execution_count": 251,
   "metadata": {},
   "outputs": [],
   "source": [
    "pred_list=[]\n",
    "prob_list=[]\n",
    "test_tweet=pd.read_excel(\"jd_final.xlsx\")\n",
    "for t in test_tweet['text']:\n",
    "    r=predict(t) \n",
    "    pred_list.append(r[\"label\"])\n",
    "    prob_list.append(1-r[\"score\"])\n",
    "test_tweet['label']=pred_list\n",
    "test_tweet['toxicity']=prob_list"
   ]
  },
  {
   "cell_type": "code",
   "execution_count": 255,
   "metadata": {},
   "outputs": [],
   "source": [
    "test_tweet.columns\n",
    "test_tweet=test_tweet.drop(['Unnamed: 0'],axis=1)"
   ]
  },
  {
   "cell_type": "code",
   "execution_count": 256,
   "metadata": {},
   "outputs": [
    {
     "name": "stdout",
     "output_type": "stream",
     "text": [
      "                   ids     user  \\\n",
      "2  1236032813943537665  Jaydeep   \n",
      "\n",
      "                                                text     label  toxicity  \n",
      "2  i hate you because you do politics on the basi...  NEGATIVE  0.948431  \n"
     ]
    }
   ],
   "source": [
    "print(test_tweet[test_tweet['label']==\"NEGATIVE\"])"
   ]
  },
  {
   "cell_type": "code",
   "execution_count": 257,
   "metadata": {},
   "outputs": [],
   "source": [
    "test_tweet.to_csv('Neg_Tweets_new.csv')"
   ]
  },
  {
   "cell_type": "code",
   "execution_count": 250,
   "metadata": {},
   "outputs": [
    {
     "data": {
      "text/plain": [
       "array([[   0,    0,    0, ..., 3743,   60,  914],\n",
       "       [   0,    0,    0, ...,  329,  143,    6],\n",
       "       [   0,    0,    0, ..., 1268,   99,    1],\n",
       "       ...,\n",
       "       [   0,    0,    0, ...,    0,  863,  286],\n",
       "       [   0,    0,    0, ..., 4364,   64,  481],\n",
       "       [   0,    0,    0, ...,  558,  589,  609]])"
      ]
     },
     "execution_count": 250,
     "metadata": {},
     "output_type": "execute_result"
    }
   ],
   "source": [
    "x_test"
   ]
  },
  {
   "cell_type": "markdown",
   "metadata": {
    "_uuid": "3ee72e47f84b6dbc32e02a783de5ec1661f157e1"
   },
   "source": [
    "### Confusion Matrix"
   ]
  },
  {
   "cell_type": "code",
   "execution_count": 123,
   "metadata": {
    "_uuid": "0e920173eb05f04aecdd735bc5dff0f5be5f8d15"
   },
   "outputs": [
    {
     "name": "stdout",
     "output_type": "stream",
     "text": [
      "20000/20000 [==============================] - 229s 11ms/step\n",
      "Wall time: 3min 51s\n"
     ]
    }
   ],
   "source": [
    "%%time\n",
    "y_pred_1d = []\n",
    "y_test_1d = list(df_test.target)\n",
    "scores = model.predict(x_test, verbose=1, batch_size=8000)\n",
    "y_pred_1d = [decode_sentiment(score, include_neutral=False) for score in scores]"
   ]
  },
  {
   "cell_type": "code",
   "execution_count": 240,
   "metadata": {
    "_uuid": "b3575191bb425ab871f3f41e83812ee84bb7e595"
   },
   "outputs": [],
   "source": [
    "def plot_confusion_matrix(cm, classes,\n",
    "                          title='Confusion matrix',\n",
    "                          cmap=plt.cm.Blues):\n",
    "    \"\"\"\n",
    "    This function prints and plots the confusion matrix.\n",
    "    Normalization can be applied by setting `normalize=True`.\n",
    "    \"\"\"\n",
    "\n",
    "    cm = cm.astype('float') / cm.sum(axis=1)[:, np.newaxis]\n",
    "\n",
    "    plt.imshow(cm, interpolation='nearest', cmap=cmap)\n",
    "    plt.title(title, fontsize=30)\n",
    "    plt.colorbar()\n",
    "    tick_marks = np.arange(len(classes))\n",
    "    plt.xticks(tick_marks, classes, rotation=90, fontsize=22)\n",
    "    plt.yticks(tick_marks, classes, fontsize=22)\n",
    "\n",
    "    fmt = '.2f'\n",
    "    thresh = cm.max() / 2.\n",
    "    for i, j in itertools.product(range(cm.shape[0]), range(cm.shape[1])):\n",
    "        plt.text(j, i, format(cm[i, j], fmt),\n",
    "                 horizontalalignment=\"center\",\n",
    "                 color=\"white\" if cm[i, j] > thresh else \"black\")\n",
    "\n",
    "    plt.ylabel('True label', fontsize=25)\n",
    "    plt.xlabel('Predicted label', fontsize=25)"
   ]
  },
  {
   "cell_type": "code",
   "execution_count": 241,
   "metadata": {
    "_uuid": "a57dc6f6211c144491a70f533225edfa95a2dc66"
   },
   "outputs": [
    {
     "data": {
      "image/png": "[encoded data removed]",
      "text/plain": [
       "<Figure size 864x864 with 2 Axes>"
      ]
     },
     "metadata": {
      "needs_background": "light"
     },
     "output_type": "display_data"
    },
    {
     "name": "stdout",
     "output_type": "stream",
     "text": [
      "Wall time: 1.12 s\n"
     ]
    }
   ],
   "source": [
    "%%time\n",
    "\n",
    "cnf_matrix = confusion_matrix(y_test_1d, y_pred_1d)\n",
    "plt.figure(figsize=(12,12))\n",
    "plot_confusion_matrix(cnf_matrix, classes=df_train.target.unique(), title=\"Confusion matrix\")\n",
    "plt.show()"
   ]
  },
  {
   "cell_type": "markdown",
   "metadata": {
    "_uuid": "e23b957348dcc084249d3cc7538b972da471c2cd"
   },
   "source": [
    "### Classification Report"
   ]
  },
  {
   "cell_type": "code",
   "execution_count": 242,
   "metadata": {
    "_uuid": "a7fe05b7caa1c984ff1deb0be2f7c6bc043df9f5"
   },
   "outputs": [
    {
     "name": "stdout",
     "output_type": "stream",
     "text": [
      "              precision    recall  f1-score   support\n",
      "\n",
      "    NEGATIVE       0.75      0.71      0.73     10130\n",
      "    POSITIVE       0.72      0.76      0.74      9870\n",
      "\n",
      "    accuracy                           0.74     20000\n",
      "   macro avg       0.74      0.74      0.74     20000\n",
      "weighted avg       0.74      0.74      0.74     20000\n",
      "\n"
     ]
    }
   ],
   "source": [
    "print(classification_report(y_test_1d, y_pred_1d))"
   ]
  },
  {
   "cell_type": "markdown",
   "metadata": {
    "_uuid": "4eb300f0c6693a618587c7dcf32f77f5416cbfb9"
   },
   "source": [
    "### Accuracy Score"
   ]
  },
  {
   "cell_type": "code",
   "execution_count": 243,
   "metadata": {
    "_uuid": "5cf76e6e09f8a60ed25947932b94c772eda44d23"
   },
   "outputs": [
    {
     "data": {
      "text/plain": [
       "0.73665"
      ]
     },
     "execution_count": 243,
     "metadata": {},
     "output_type": "execute_result"
    }
   ],
   "source": [
    "accuracy_score(y_test_1d, y_pred_1d)"
   ]
  },
  {
   "cell_type": "code",
   "execution_count": 249,
   "metadata": {},
   "outputs": [],
   "source": [
    "model.save('FINAL.model')"
   ]
  },
  {
   "cell_type": "markdown",
   "metadata": {
    "_uuid": "4f014c32f3833db282e1a075c526604f34e3158c"
   },
   "source": [
    "### Save model"
   ]
  },
  {
   "cell_type": "code",
   "execution_count": 247,
   "metadata": {
    "_uuid": "3b2b3ad5b592977b404acfa1c9ad303a62837255"
   },
   "outputs": [
    {
     "name": "stderr",
     "output_type": "stream",
     "text": [
      "2020-03-07 04:14:19,981 : INFO : saving Word2Vec object under model_final.w2v, separately None\n",
      "2020-03-07 04:14:19,997 : INFO : not storing attribute vectors_norm\n",
      "2020-03-07 04:14:20,000 : INFO : not storing attribute cum_table\n",
      "2020-03-07 04:14:20,444 : INFO : saved model_final.w2v\n"
     ]
    }
   ],
   "source": [
    "model.save(KERAS_MODEL)\n",
    "w2v_model.save(WORD2VEC_MODEL)\n",
    "pickle.dump(tokenizer, open(TOKENIZER_MODEL, \"wb\"), protocol=0)\n",
    "pickle.dump(encoder, open(ENCODER_MODEL, \"wb\"), protocol=0)"
   ]
  }
 ],
 "metadata": {
  "kernelspec": {
   "display_name": "Python 3",
   "language": "python",
   "name": "python3"
  },
  "language_info": {
   "codemirror_mode": {
    "name": "ipython",
    "version": 3
   },
   "file_extension": ".py",
   "mimetype": "text/x-python",
   "name": "python",
   "nbconvert_exporter": "python",
   "pygments_lexer": "ipython3",
   "version": "3.6.8"
  }
 },
 "nbformat": 4,
 "nbformat_minor": 1
}
