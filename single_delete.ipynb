{
 "cells": [
  {
   "cell_type": "code",
   "execution_count": 26,
   "metadata": {},
   "outputs": [],
   "source": [
    "import xlrd\n",
    "import csv\n",
    "import pandas as pd\n",
    "def csv_from_excel():\n",
    "    wb = xlrd.open_workbook('jd6.xlsx')\n",
    "    sh = wb.sheet_by_name('Sheet1')\n",
    "    your_csv_file = open('your_csv_file_new.csv', 'w')\n",
    "    wr = csv.writer(your_csv_file, quoting=csv.QUOTE_ALL)\n",
    "\n",
    "    for rownum in range(sh.nrows):\n",
    "        wr.writerow(sh.row_values(rownum))\n",
    "\n",
    "    your_csv_file.close()\n",
    "\n",
    "# runs the csv_from_excel function:\n",
    "csv_from_excel()"
   ]
  },
  {
   "cell_type": "code",
   "execution_count": 27,
   "metadata": {},
   "outputs": [],
   "source": [
    "import tweepy\n",
    "import csv\n",
    "consumer_key = \"o876NPDQMXStGaTvRcpcKoFzs\"\n",
    "consumer_secret = \"XzQj2FhHN8IpqjEcZKr61GK2gm4C4W3n4vIaHEugrlVQ0Ehyit\"\n",
    "access_token = \"898566612537573377-z4SGJitLOnDhvJZWDjCrzatHB2G9E8U\" \n",
    "access_token_secret = \"toNufkVFyuPv57JCOr8oYGBpBdUD7ItnTRW4naUeAPJJz\"\n",
    "def read_csv(file):\n",
    "    with open(file, encoding = 'utf-8') as csvfile:\n",
    "        reader = csv.reader(your_csv_file, delimiter = ',')\n",
    "        rows = []\n",
    "        for line in reader:\n",
    "            row_data = []\n",
    "            for element in line:\n",
    "                row_data.append(element)\n",
    "            if row_data != []:\n",
    "                rows.append(row_data)\n",
    "    rows.pop(0)\n",
    "    return(rows)\n",
    "    \n",
    "    \n",
    "def oauth_login(consumer_key, consumer_secret):\n",
    "    auth = tweepy.OAuthHandler(consumer_key, consumer_secret)\n",
    "    auth_url = auth.get_authorization_url()\n",
    "    verify_code = raw_input(\"Authenticate at %s and then enter you verification code here > \" % auth_url)\n",
    "    auth.get_access_token(verify_code)\n",
    "    return tweepy.API(auth)\n",
    "\n",
    "\n",
    "\n"
   ]
  },
  {
   "cell_type": "code",
   "execution_count": 30,
   "metadata": {},
   "outputs": [
    {
     "name": "stdout",
     "output_type": "stream",
     "text": [
      "1236028005761159168 deleted!\n",
      "1236027934294433792 deleted!\n",
      "1236027888643670016 deleted!\n",
      "1236027822470119424 deleted!\n"
     ]
    }
   ],
   "source": [
    "tweets = pd.read_csv('your_csv_file_new.csv')\n",
    "to_delete_ids = []\n",
    "to_delete_ids = tweets[\"tid\"]\n",
    "#print(to_delete_ids)\n",
    "delete_count = 0\n",
    "# for tweet in tweets:\n",
    "#     to_delete_ids.append(your_csv_file[1])\n",
    "\n",
    "# delete marked tweets by status ID\n",
    "for status_id in to_delete_ids:\n",
    "        api.destroy_status(status_id)\n",
    "        print(status_id, 'deleted!')\n",
    "        delete_count += 1\n",
    "        \n",
    "        \n"
   ]
  },
  {
   "cell_type": "code",
   "execution_count": null,
   "metadata": {},
   "outputs": [],
   "source": []
  }
 ],
 "metadata": {
  "kernelspec": {
   "display_name": "Python 3",
   "language": "python",
   "name": "python3"
  },
  "language_info": {
   "codemirror_mode": {
    "name": "ipython",
    "version": 3
   },
   "file_extension": ".py",
   "mimetype": "text/x-python",
   "name": "python",
   "nbconvert_exporter": "python",
   "pygments_lexer": "ipython3",
   "version": "3.7.4"
  }
 },
 "nbformat": 4,
 "nbformat_minor": 2
}
